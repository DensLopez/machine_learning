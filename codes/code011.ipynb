{
 "cells": [
  {
   "cell_type": "markdown",
   "metadata": {},
   "source": [
    "# **Reto**"
   ]
  },
  {
   "cell_type": "code",
   "execution_count": 3,
   "metadata": {},
   "outputs": [],
   "source": [
    "# Importamos librerías de manejo numérico y procesamiento de datos.\n",
    "import numpy as np\n",
    "import pandas as pd\n",
    "\n",
    "# Importamos scikit-learn, nuestra librería base para utilizar algoritmos de machine learning.\n",
    "import sklearn\n",
    "\n",
    "#Importamos los datasets de scikit-learn\n",
    "from sklearn import datasets\n",
    "\n",
    "# Importamos librerías de scikit-learn para manejo de regresión lineal/logística.\n",
    "from sklearn import linear_model\n",
    "\n",
    "# Importamos librerías de scikit-learn para uso de clasificación de bosque aleatorio.\n",
    "from sklearn.ensemble import RandomForestClassifier\n",
    "\n",
    "# Importamos librerías de scikit-learn para clusterización con k-means\n",
    "from sklearn.cluster import KMeans\n",
    "\n",
    "# Importamos librerías para manejo del rendimiento (performance) de nuestros modelos.\n",
    "from sklearn.metrics import mean_squared_error, r2_score, accuracy_score\n",
    "\n",
    "# Importamos librerías para graficar.\n",
    "import matplotlib.pyplot as plt\n",
    "from mpl_toolkits.mplot3d import Axes3D\n",
    "\n",
    "# Definimos el tamaño del graficado (opcional).\n",
    "plt.rcParams['font.size']=15"
   ]
  },
  {
   "cell_type": "code",
   "execution_count": 4,
   "metadata": {},
   "outputs": [
    {
     "name": "stdout",
     "output_type": "stream",
     "text": [
      "{'data': array([[5.1, 3.5, 1.4, 0.2],\n",
      "       [4.9, 3. , 1.4, 0.2],\n",
      "       [4.7, 3.2, 1.3, 0.2],\n",
      "       [4.6, 3.1, 1.5, 0.2],\n",
      "       [5. , 3.6, 1.4, 0.2],\n",
      "       [5.4, 3.9, 1.7, 0.4],\n",
      "       [4.6, 3.4, 1.4, 0.3],\n",
      "       [5. , 3.4, 1.5, 0.2],\n",
      "       [4.4, 2.9, 1.4, 0.2],\n",
      "       [4.9, 3.1, 1.5, 0.1],\n",
      "       [5.4, 3.7, 1.5, 0.2],\n",
      "       [4.8, 3.4, 1.6, 0.2],\n",
      "       [4.8, 3. , 1.4, 0.1],\n",
      "       [4.3, 3. , 1.1, 0.1],\n",
      "       [5.8, 4. , 1.2, 0.2],\n",
      "       [5.7, 4.4, 1.5, 0.4],\n",
      "       [5.4, 3.9, 1.3, 0.4],\n",
      "       [5.1, 3.5, 1.4, 0.3],\n",
      "       [5.7, 3.8, 1.7, 0.3],\n",
      "       [5.1, 3.8, 1.5, 0.3],\n",
      "       [5.4, 3.4, 1.7, 0.2],\n",
      "       [5.1, 3.7, 1.5, 0.4],\n",
      "       [4.6, 3.6, 1. , 0.2],\n",
      "       [5.1, 3.3, 1.7, 0.5],\n",
      "       [4.8, 3.4, 1.9, 0.2],\n",
      "       [5. , 3. , 1.6, 0.2],\n",
      "       [5. , 3.4, 1.6, 0.4],\n",
      "       [5.2, 3.5, 1.5, 0.2],\n",
      "       [5.2, 3.4, 1.4, 0.2],\n",
      "       [4.7, 3.2, 1.6, 0.2],\n",
      "       [4.8, 3.1, 1.6, 0.2],\n",
      "       [5.4, 3.4, 1.5, 0.4],\n",
      "       [5.2, 4.1, 1.5, 0.1],\n",
      "       [5.5, 4.2, 1.4, 0.2],\n",
      "       [4.9, 3.1, 1.5, 0.2],\n",
      "       [5. , 3.2, 1.2, 0.2],\n",
      "       [5.5, 3.5, 1.3, 0.2],\n",
      "       [4.9, 3.6, 1.4, 0.1],\n",
      "       [4.4, 3. , 1.3, 0.2],\n",
      "       [5.1, 3.4, 1.5, 0.2],\n",
      "       [5. , 3.5, 1.3, 0.3],\n",
      "       [4.5, 2.3, 1.3, 0.3],\n",
      "       [4.4, 3.2, 1.3, 0.2],\n",
      "       [5. , 3.5, 1.6, 0.6],\n",
      "       [5.1, 3.8, 1.9, 0.4],\n",
      "       [4.8, 3. , 1.4, 0.3],\n",
      "       [5.1, 3.8, 1.6, 0.2],\n",
      "       [4.6, 3.2, 1.4, 0.2],\n",
      "       [5.3, 3.7, 1.5, 0.2],\n",
      "       [5. , 3.3, 1.4, 0.2],\n",
      "       [7. , 3.2, 4.7, 1.4],\n",
      "       [6.4, 3.2, 4.5, 1.5],\n",
      "       [6.9, 3.1, 4.9, 1.5],\n",
      "       [5.5, 2.3, 4. , 1.3],\n",
      "       [6.5, 2.8, 4.6, 1.5],\n",
      "       [5.7, 2.8, 4.5, 1.3],\n",
      "       [6.3, 3.3, 4.7, 1.6],\n",
      "       [4.9, 2.4, 3.3, 1. ],\n",
      "       [6.6, 2.9, 4.6, 1.3],\n",
      "       [5.2, 2.7, 3.9, 1.4],\n",
      "       [5. , 2. , 3.5, 1. ],\n",
      "       [5.9, 3. , 4.2, 1.5],\n",
      "       [6. , 2.2, 4. , 1. ],\n",
      "       [6.1, 2.9, 4.7, 1.4],\n",
      "       [5.6, 2.9, 3.6, 1.3],\n",
      "       [6.7, 3.1, 4.4, 1.4],\n",
      "       [5.6, 3. , 4.5, 1.5],\n",
      "       [5.8, 2.7, 4.1, 1. ],\n",
      "       [6.2, 2.2, 4.5, 1.5],\n",
      "       [5.6, 2.5, 3.9, 1.1],\n",
      "       [5.9, 3.2, 4.8, 1.8],\n",
      "       [6.1, 2.8, 4. , 1.3],\n",
      "       [6.3, 2.5, 4.9, 1.5],\n",
      "       [6.1, 2.8, 4.7, 1.2],\n",
      "       [6.4, 2.9, 4.3, 1.3],\n",
      "       [6.6, 3. , 4.4, 1.4],\n",
      "       [6.8, 2.8, 4.8, 1.4],\n",
      "       [6.7, 3. , 5. , 1.7],\n",
      "       [6. , 2.9, 4.5, 1.5],\n",
      "       [5.7, 2.6, 3.5, 1. ],\n",
      "       [5.5, 2.4, 3.8, 1.1],\n",
      "       [5.5, 2.4, 3.7, 1. ],\n",
      "       [5.8, 2.7, 3.9, 1.2],\n",
      "       [6. , 2.7, 5.1, 1.6],\n",
      "       [5.4, 3. , 4.5, 1.5],\n",
      "       [6. , 3.4, 4.5, 1.6],\n",
      "       [6.7, 3.1, 4.7, 1.5],\n",
      "       [6.3, 2.3, 4.4, 1.3],\n",
      "       [5.6, 3. , 4.1, 1.3],\n",
      "       [5.5, 2.5, 4. , 1.3],\n",
      "       [5.5, 2.6, 4.4, 1.2],\n",
      "       [6.1, 3. , 4.6, 1.4],\n",
      "       [5.8, 2.6, 4. , 1.2],\n",
      "       [5. , 2.3, 3.3, 1. ],\n",
      "       [5.6, 2.7, 4.2, 1.3],\n",
      "       [5.7, 3. , 4.2, 1.2],\n",
      "       [5.7, 2.9, 4.2, 1.3],\n",
      "       [6.2, 2.9, 4.3, 1.3],\n",
      "       [5.1, 2.5, 3. , 1.1],\n",
      "       [5.7, 2.8, 4.1, 1.3],\n",
      "       [6.3, 3.3, 6. , 2.5],\n",
      "       [5.8, 2.7, 5.1, 1.9],\n",
      "       [7.1, 3. , 5.9, 2.1],\n",
      "       [6.3, 2.9, 5.6, 1.8],\n",
      "       [6.5, 3. , 5.8, 2.2],\n",
      "       [7.6, 3. , 6.6, 2.1],\n",
      "       [4.9, 2.5, 4.5, 1.7],\n",
      "       [7.3, 2.9, 6.3, 1.8],\n",
      "       [6.7, 2.5, 5.8, 1.8],\n",
      "       [7.2, 3.6, 6.1, 2.5],\n",
      "       [6.5, 3.2, 5.1, 2. ],\n",
      "       [6.4, 2.7, 5.3, 1.9],\n",
      "       [6.8, 3. , 5.5, 2.1],\n",
      "       [5.7, 2.5, 5. , 2. ],\n",
      "       [5.8, 2.8, 5.1, 2.4],\n",
      "       [6.4, 3.2, 5.3, 2.3],\n",
      "       [6.5, 3. , 5.5, 1.8],\n",
      "       [7.7, 3.8, 6.7, 2.2],\n",
      "       [7.7, 2.6, 6.9, 2.3],\n",
      "       [6. , 2.2, 5. , 1.5],\n",
      "       [6.9, 3.2, 5.7, 2.3],\n",
      "       [5.6, 2.8, 4.9, 2. ],\n",
      "       [7.7, 2.8, 6.7, 2. ],\n",
      "       [6.3, 2.7, 4.9, 1.8],\n",
      "       [6.7, 3.3, 5.7, 2.1],\n",
      "       [7.2, 3.2, 6. , 1.8],\n",
      "       [6.2, 2.8, 4.8, 1.8],\n",
      "       [6.1, 3. , 4.9, 1.8],\n",
      "       [6.4, 2.8, 5.6, 2.1],\n",
      "       [7.2, 3. , 5.8, 1.6],\n",
      "       [7.4, 2.8, 6.1, 1.9],\n",
      "       [7.9, 3.8, 6.4, 2. ],\n",
      "       [6.4, 2.8, 5.6, 2.2],\n",
      "       [6.3, 2.8, 5.1, 1.5],\n",
      "       [6.1, 2.6, 5.6, 1.4],\n",
      "       [7.7, 3. , 6.1, 2.3],\n",
      "       [6.3, 3.4, 5.6, 2.4],\n",
      "       [6.4, 3.1, 5.5, 1.8],\n",
      "       [6. , 3. , 4.8, 1.8],\n",
      "       [6.9, 3.1, 5.4, 2.1],\n",
      "       [6.7, 3.1, 5.6, 2.4],\n",
      "       [6.9, 3.1, 5.1, 2.3],\n",
      "       [5.8, 2.7, 5.1, 1.9],\n",
      "       [6.8, 3.2, 5.9, 2.3],\n",
      "       [6.7, 3.3, 5.7, 2.5],\n",
      "       [6.7, 3. , 5.2, 2.3],\n",
      "       [6.3, 2.5, 5. , 1.9],\n",
      "       [6.5, 3. , 5.2, 2. ],\n",
      "       [6.2, 3.4, 5.4, 2.3],\n",
      "       [5.9, 3. , 5.1, 1.8]]), 'target': array([0, 0, 0, 0, 0, 0, 0, 0, 0, 0, 0, 0, 0, 0, 0, 0, 0, 0, 0, 0, 0, 0,\n",
      "       0, 0, 0, 0, 0, 0, 0, 0, 0, 0, 0, 0, 0, 0, 0, 0, 0, 0, 0, 0, 0, 0,\n",
      "       0, 0, 0, 0, 0, 0, 1, 1, 1, 1, 1, 1, 1, 1, 1, 1, 1, 1, 1, 1, 1, 1,\n",
      "       1, 1, 1, 1, 1, 1, 1, 1, 1, 1, 1, 1, 1, 1, 1, 1, 1, 1, 1, 1, 1, 1,\n",
      "       1, 1, 1, 1, 1, 1, 1, 1, 1, 1, 1, 1, 2, 2, 2, 2, 2, 2, 2, 2, 2, 2,\n",
      "       2, 2, 2, 2, 2, 2, 2, 2, 2, 2, 2, 2, 2, 2, 2, 2, 2, 2, 2, 2, 2, 2,\n",
      "       2, 2, 2, 2, 2, 2, 2, 2, 2, 2, 2, 2, 2, 2, 2, 2, 2, 2]), 'frame': None, 'target_names': array(['setosa', 'versicolor', 'virginica'], dtype='<U10'), 'DESCR': '.. _iris_dataset:\\n\\nIris plants dataset\\n--------------------\\n\\n**Data Set Characteristics:**\\n\\n:Number of Instances: 150 (50 in each of three classes)\\n:Number of Attributes: 4 numeric, predictive attributes and the class\\n:Attribute Information:\\n    - sepal length in cm\\n    - sepal width in cm\\n    - petal length in cm\\n    - petal width in cm\\n    - class:\\n            - Iris-Setosa\\n            - Iris-Versicolour\\n            - Iris-Virginica\\n\\n:Summary Statistics:\\n\\n============== ==== ==== ======= ===== ====================\\n                Min  Max   Mean    SD   Class Correlation\\n============== ==== ==== ======= ===== ====================\\nsepal length:   4.3  7.9   5.84   0.83    0.7826\\nsepal width:    2.0  4.4   3.05   0.43   -0.4194\\npetal length:   1.0  6.9   3.76   1.76    0.9490  (high!)\\npetal width:    0.1  2.5   1.20   0.76    0.9565  (high!)\\n============== ==== ==== ======= ===== ====================\\n\\n:Missing Attribute Values: None\\n:Class Distribution: 33.3% for each of 3 classes.\\n:Creator: R.A. Fisher\\n:Donor: Michael Marshall (MARSHALL%PLU@io.arc.nasa.gov)\\n:Date: July, 1988\\n\\nThe famous Iris database, first used by Sir R.A. Fisher. The dataset is taken\\nfrom Fisher\\'s paper. Note that it\\'s the same as in R, but not as in the UCI\\nMachine Learning Repository, which has two wrong data points.\\n\\nThis is perhaps the best known database to be found in the\\npattern recognition literature.  Fisher\\'s paper is a classic in the field and\\nis referenced frequently to this day.  (See Duda & Hart, for example.)  The\\ndata set contains 3 classes of 50 instances each, where each class refers to a\\ntype of iris plant.  One class is linearly separable from the other 2; the\\nlatter are NOT linearly separable from each other.\\n\\n.. dropdown:: References\\n\\n  - Fisher, R.A. \"The use of multiple measurements in taxonomic problems\"\\n    Annual Eugenics, 7, Part II, 179-188 (1936); also in \"Contributions to\\n    Mathematical Statistics\" (John Wiley, NY, 1950).\\n  - Duda, R.O., & Hart, P.E. (1973) Pattern Classification and Scene Analysis.\\n    (Q327.D83) John Wiley & Sons.  ISBN 0-471-22361-1.  See page 218.\\n  - Dasarathy, B.V. (1980) \"Nosing Around the Neighborhood: A New System\\n    Structure and Classification Rule for Recognition in Partially Exposed\\n    Environments\".  IEEE Transactions on Pattern Analysis and Machine\\n    Intelligence, Vol. PAMI-2, No. 1, 67-71.\\n  - Gates, G.W. (1972) \"The Reduced Nearest Neighbor Rule\".  IEEE Transactions\\n    on Information Theory, May 1972, 431-433.\\n  - See also: 1988 MLC Proceedings, 54-64.  Cheeseman et al\"s AUTOCLASS II\\n    conceptual clustering system finds 3 classes in the data.\\n  - Many, many more ...\\n', 'feature_names': ['sepal length (cm)', 'sepal width (cm)', 'petal length (cm)', 'petal width (cm)'], 'filename': 'iris.csv', 'data_module': 'sklearn.datasets.data'}\n"
     ]
    }
   ],
   "source": [
    "# Carga del Iris dataset.\n",
    "iris = datasets.load_iris()\n",
    "\n",
    "# Imprimimos los datos.\n",
    "print(iris)"
   ]
  },
  {
   "cell_type": "code",
   "execution_count": 5,
   "metadata": {},
   "outputs": [
    {
     "data": {
      "text/html": [
       "<div>\n",
       "<style scoped>\n",
       "    .dataframe tbody tr th:only-of-type {\n",
       "        vertical-align: middle;\n",
       "    }\n",
       "\n",
       "    .dataframe tbody tr th {\n",
       "        vertical-align: top;\n",
       "    }\n",
       "\n",
       "    .dataframe thead th {\n",
       "        text-align: right;\n",
       "    }\n",
       "</style>\n",
       "<table border=\"1\" class=\"dataframe\">\n",
       "  <thead>\n",
       "    <tr style=\"text-align: right;\">\n",
       "      <th></th>\n",
       "      <th>sepal length (cm)</th>\n",
       "      <th>sepal width (cm)</th>\n",
       "      <th>petal length (cm)</th>\n",
       "      <th>petal width (cm)</th>\n",
       "      <th>species</th>\n",
       "    </tr>\n",
       "  </thead>\n",
       "  <tbody>\n",
       "    <tr>\n",
       "      <th>91</th>\n",
       "      <td>6.1</td>\n",
       "      <td>3.0</td>\n",
       "      <td>4.6</td>\n",
       "      <td>1.4</td>\n",
       "      <td>1</td>\n",
       "    </tr>\n",
       "    <tr>\n",
       "      <th>63</th>\n",
       "      <td>6.1</td>\n",
       "      <td>2.9</td>\n",
       "      <td>4.7</td>\n",
       "      <td>1.4</td>\n",
       "      <td>1</td>\n",
       "    </tr>\n",
       "    <tr>\n",
       "      <th>103</th>\n",
       "      <td>6.3</td>\n",
       "      <td>2.9</td>\n",
       "      <td>5.6</td>\n",
       "      <td>1.8</td>\n",
       "      <td>2</td>\n",
       "    </tr>\n",
       "    <tr>\n",
       "      <th>6</th>\n",
       "      <td>4.6</td>\n",
       "      <td>3.4</td>\n",
       "      <td>1.4</td>\n",
       "      <td>0.3</td>\n",
       "      <td>0</td>\n",
       "    </tr>\n",
       "    <tr>\n",
       "      <th>59</th>\n",
       "      <td>5.2</td>\n",
       "      <td>2.7</td>\n",
       "      <td>3.9</td>\n",
       "      <td>1.4</td>\n",
       "      <td>1</td>\n",
       "    </tr>\n",
       "  </tbody>\n",
       "</table>\n",
       "</div>"
      ],
      "text/plain": [
       "     sepal length (cm)  sepal width (cm)  petal length (cm)  petal width (cm)  \\\n",
       "91                 6.1               3.0                4.6               1.4   \n",
       "63                 6.1               2.9                4.7               1.4   \n",
       "103                6.3               2.9                5.6               1.8   \n",
       "6                  4.6               3.4                1.4               0.3   \n",
       "59                 5.2               2.7                3.9               1.4   \n",
       "\n",
       "     species  \n",
       "91         1  \n",
       "63         1  \n",
       "103        2  \n",
       "6          0  \n",
       "59         1  "
      ]
     },
     "execution_count": 5,
     "metadata": {},
     "output_type": "execute_result"
    }
   ],
   "source": [
    "# Creamos el DataFrame con los feature names.\n",
    "data = pd.DataFrame(data=iris.data, columns=iris.feature_names)\n",
    "\n",
    "# Creamos el DataFrame con los targets (las especies de la flor).\n",
    "target = pd.DataFrame(data=iris.target, columns=['species'])\n",
    "\n",
    "# Unimos ambos DF con concat; agregamos una nueva columna.\n",
    "data = pd.concat([data, target], axis=1)\n",
    "\n",
    "# Mezclar en orden aleatorio.\n",
    "data = data.sample(frac=1, random_state=1234)\n",
    "\n",
    "# Imprimimos los primeros registros del nuevo DataFrame.\n",
    "data.head()"
   ]
  },
  {
   "cell_type": "markdown",
   "metadata": {},
   "source": [
    "## **1. Crear el DataFrame con los feature names**\n",
    "\n",
    "- ``iris.data`` contiene las características numéricas de las flores (como el largo y ancho de los pétalos y sépalos).\n",
    "\n",
    "- ``iris.feature_names`` son los nombres de las columnas, que describen cada característica.\n",
    "\n",
    "- ``pd.DataFrame(...) ``convierte estos datos en un DataFrame de pandas, lo que facilita su manipulación y análisis.\n",
    "\n",
    "Ejemplo de salida ``(data.head())``:"
   ]
  },
  {
   "attachments": {
    "image.png": {
     "image/png": "[encoded data removed]"
    }
   },
   "cell_type": "markdown",
   "metadata": {},
   "source": [
    "![image.png](attachment:image.png)"
   ]
  },
  {
   "attachments": {
    "image.png": {
     "image/png": "[encoded data removed]"
    }
   },
   "cell_type": "markdown",
   "metadata": {},
   "source": [
    "## **2. Crear el DataFrame con los targets**\n",
    "\n",
    "``target = pd.DataFrame(data=iris.target, columns=['species'])``\n",
    "\n",
    "- ``iris.target`` contiene los valores de las especies (0, 1 o 2, que representan las diferentes especies de Iris).\n",
    "\n",
    "- Se convierte en un DataFrame de pandas con una sola columna llamada ``'species'``.\n",
    "\n",
    "Ejemplo de salida ``(target.head())``:\n",
    "\n",
    "![image.png](attachment:image.png)"
   ]
  },
  {
   "attachments": {
    "image.png": {
     "image/png": "[encoded data removed]"
    }
   },
   "cell_type": "markdown",
   "metadata": {},
   "source": [
    "## **3. Unir los DataFrames con concat**\n",
    "\n",
    "``data = pd.concat([data, target], axis=1)``\n",
    "- ``pd.concat([...], axis=1)`` concatena los DataFrames por columnas.\n",
    "\n",
    "- Ahora ``data`` tiene tanto las características como la columna ``'species'``.\n",
    "\n",
    "Ejemplo ``(data.head())``:\n",
    "\n",
    "![image.png](attachment:image.png)"
   ]
  },
  {
   "cell_type": "markdown",
   "metadata": {},
   "source": [
    "## **4. Mezclar en orden aleatorio**\n",
    "\n",
    "``data = data.sample(frac=1, random_state=1234)``\n",
    "\n",
    "- ``sample(frac=1)`` toma el 100% de las filas pero en orden aleatorio.\n",
    "\n",
    "- ``random_state=1234`` asegura que los resultados sean reproducibles cada vez que se ejecute el código.\n",
    "\n",
    "- `data.head()` Muestra las primeras 5 filas del nuevo DataFrame mezclado"
   ]
  },
  {
   "cell_type": "markdown",
   "metadata": {},
   "source": [
    "## **En resumen:**\n",
    "1. Se crea un DataFrame con las características ``(data)``.\n",
    "\n",
    "2. Se crea otro DataFrame con las especies ``(target)``.\n",
    "\n",
    "3. Se combinan ambos DataFrames ``(data = pd.concat(...))``.\n",
    "\n",
    "4. Se mezcla el DataFrame aleatoriamente ``(sample(frac=1))``.\n",
    "\n",
    "5. Se muestran los primeros registros ``(data.head())``."
   ]
  },
  {
   "cell_type": "code",
   "execution_count": 6,
   "metadata": {},
   "outputs": [],
   "source": [
    "# Fracción de entrenamiento 0.8.\n",
    "Ntrain = int(data.shape[0] * 0.8)\n",
    "\n",
    "# Datos de entrenamiento.\n",
    "train = data.iloc[:Ntrain, :]\n",
    "\n",
    "# Datos de prueba.\n",
    "test = data.iloc[Ntrain:, :]"
   ]
  },
  {
   "attachments": {
    "image.png": {
     "image/png": "[encoded data removed]"
    }
   },
   "cell_type": "markdown",
   "metadata": {},
   "source": [
    "## **1. Definir el tamaño del conjunto de entrenamiento**\n",
    "\n",
    "``Ntrain = int(data.shape[0] * 0.8)``\n",
    "\n",
    "- ``data.shape[0]`` obtiene el número total de filas en ``data`` (es decir, la cantidad de muestras en el dataset).\n",
    "\n",
    "- Se multiplica por ``0.8`` para obtener el 80% de los datos para entrenamiento.\n",
    "\n",
    "- ``int(...)`` convierte el resultado en un número entero, ya que el índice de filas debe ser un valor entero.\n",
    "\n",
    "🔹 Ejemplo:     \n",
    "Si ``data.shape[0] = 150`` (porque el dataset de Iris tiene 150 muestras), entonces:\n",
    "\n",
    "![image.png](attachment:image.png)\n",
    "\n",
    "Esto significa que **las primeras 120 filas** se usarán para entrenamiento y las **30 restantes para prueba**."
   ]
  },
  {
   "cell_type": "markdown",
   "metadata": {},
   "source": [
    "## **2. Extraer datos de entrenamiento**\n",
    "\n",
    "``train = data.iloc[:Ntrain, :]``\n",
    "- ``iloc[:Ntrain, :]`` selecciona las primeras ``Ntrain`` filas de ``data``.\n",
    "\n",
    "- ``:`` en la segunda posición significa \"tomar todas las columnas\".\n",
    "\n",
    "🔹 Ejemplo:\n",
    "Si ``Ntrain = 120``, entonces ``train`` contendrá las filas **0 a 119** del DataFrame."
   ]
  },
  {
   "cell_type": "markdown",
   "metadata": {},
   "source": [
    "## **3. Extraer datos de prueba**\n",
    "\n",
    "``test = data.iloc[Ntrain:, :]``\n",
    "- ``iloc[Ntrain:, :]`` selecciona desde ``Ntrain`` hasta el final del DataFrame.\n",
    "\n",
    "- Esto toma **el 20% restante** de los datos.\n",
    "\n",
    "🔹 Ejemplo:    \n",
    "Si ``Ntrain = 120``, entonces ``test`` contendrá **las filas 120 a 149** del DataFrame."
   ]
  },
  {
   "cell_type": "markdown",
   "metadata": {},
   "source": [
    "## **🔹 Resumen del código:**\n",
    "1. Se calcula cuántas filas (80%) se usarán para entrenamiento.\n",
    "\n",
    "2. Se dividen los datos en ``train`` (las primeras ``Ntrain`` filas) y ``test`` (el resto).\n",
    "\n",
    "3. ``train`` y ``test`` ahora contienen conjuntos separados para entrenar y evaluar un modelo."
   ]
  },
  {
   "cell_type": "code",
   "execution_count": 7,
   "metadata": {},
   "outputs": [
    {
     "data": {
      "image/png": "[encoded data removed]",
      "text/plain": [
       "<Figure size 500x500 with 1 Axes>"
      ]
     },
     "metadata": {},
     "output_type": "display_data"
    }
   ],
   "source": [
    "# Definimos variables para acceder de forma más simple a las columnas de nuestros features.\n",
    "plength = data[\"petal length (cm)\"]\n",
    "pwidth = data[\"petal width (cm)\"]\n",
    "\n",
    "# Creamos la gráfica comparanco Petal lenght (eje x) contra Petal width (eje y)\n",
    "f = plt.figure(figsize=(5,5))\n",
    "ax = f.add_subplot(1,1,1)\n",
    "ax.scatter(plength, pwidth)\n",
    "ax.set_xlabel(\"Petal Length\")\n",
    "ax.set_ylabel(\"Petal Width\")\n",
    "ax.set_title(\"Petal Width v. Length\")\n",
    "f.tight_layout()"
   ]
  },
  {
   "cell_type": "markdown",
   "metadata": {},
   "source": [
    "## **1. Definir variables para acceder a columnas específicas**\n",
    "\n",
    "``plength = data[\"petal length (cm)\"]``     \n",
    "``pwidth = data[\"petal width (cm)\"]``\n",
    "\n",
    "- Se extraen dos columnas del DataFrame ``data``:\n",
    "\n",
    "  - ``plength`` almacena los valores de la columna **\"petal length (cm)\"**.\n",
    "\n",
    "  - ``pwidth`` almacena los valores de la columna **\"petal width (cm)\"**.\n",
    "\n",
    "- Esto facilita su uso en la gráfica, evitando escribir ``data[\"petal length (cm)\"]`` cada vez."
   ]
  },
  {
   "attachments": {
    "image.png": {
     "image/png": "[encoded data removed]"
    }
   },
   "cell_type": "markdown",
   "metadata": {},
   "source": [
    "## **2. Crear la figura y los ejes para la gráfica**\n",
    "\n",
    "``f = plt.figure(figsize=(5,5))``     \n",
    "``ax = f.add_subplot(1,1,1)``\n",
    "- ``plt.figure(figsize=(5,5))`` crea una nueva figura de 5x5 pulgadas.\n",
    "\n",
    "- ``add_subplot(1,1,1)`` agrega un único gráfico (1 fila, 1 columna, primer gráfico).\n",
    "\n",
    "**📌 Ejemplo visual** de cómo dividir gráficos con a``dd_subplot(rows, cols, index)``:\n",
    "\n",
    "![image.png](attachment:image.png)\n",
    "\n",
    "Aquí solo hay uno, así que no es necesario dividir."
   ]
  },
  {
   "cell_type": "markdown",
   "metadata": {},
   "source": [
    "## **3. Dibujar el gráfico de dispersión**\n",
    "\n",
    "``ax.scatter(plength, pwidth)``\n",
    "- ``scatter(x, y)`` crea un **diagrama de dispersión**.\n",
    "\n",
    "- En este caso, ``plength`` (eje X) se grafica contra ``pwidth`` (eje Y).\n",
    "\n",
    "- Cada punto representa una flor en función del largo y ancho de su pétalo."
   ]
  },
  {
   "cell_type": "markdown",
   "metadata": {},
   "source": [
    "## **4. Etiquetas y título**\n",
    "\n",
    "``ax.set_xlabel(\"Petal Length\")``    \n",
    "``ax.set_ylabel(\"Petal Width\")``    \n",
    "``ax.set_title(\"Petal Width v. Length\")``     \n",
    "- ``set_xlabel(\"Petal Length\")`` etiqueta el eje X.\n",
    "\n",
    "- ``set_ylabel(\"Petal Width\")`` etiqueta el eje Y.\n",
    "\n",
    "- ``set_title(\"Petal Width v. Length\")`` le da un título al gráfico."
   ]
  },
  {
   "cell_type": "markdown",
   "metadata": {},
   "source": [
    "## **5. Ajustar el diseño del gráfico**\n",
    "\n",
    "``f.tight_layout()``\n",
    "- ``tight_layout()`` **ajusta automáticamente** los márgenes para evitar que las etiquetas o títulos se sobrepongan.\n",
    "\n",
    "## **🔹 Resumen del código:**\n",
    "✅ Extrae las columnas Petal Length y Petal Width.   \n",
    "✅ Crea una figura y un gráfico de dispersión.     \n",
    "✅ Añade etiquetas y título.    \n",
    "✅ Ajusta la distribución del gráfico.   "
   ]
  },
  {
   "cell_type": "code",
   "execution_count": 8,
   "metadata": {},
   "outputs": [
    {
     "name": "stdout",
     "output_type": "stream",
     "text": [
      "Coef\n",
      " [0.41490802]\n",
      "\n",
      "\n",
      "Bias\n",
      " -0.357589314248546\n"
     ]
    }
   ],
   "source": [
    "# Importar un objeto de regresión lineal de sklearn.\n",
    "model_1 = linear_model.LinearRegression()\n",
    "\n",
    "# Ajustar el modelo a tus datos.\n",
    "model_1.fit(pd.DataFrame(train.iloc[:, 2]), train.iloc[:, 3])\n",
    "\n",
    "# Imprimir los coeficientes.\n",
    "print(\"Coef\\n\", model_1.coef_)\n",
    "\n",
    "# Imprimir el sesgo o bias.\n",
    "print(\"\\n\\nBias\\n\", model_1.intercept_)"
   ]
  },
  {
   "cell_type": "markdown",
   "metadata": {},
   "source": [
    "## **1️⃣ Importar el modelo de regresión lineal**\n",
    "\n",
    "``model_1 = linear_model.LinearRegression()``\n",
    "- Se **crea un objeto** de regresión lineal usando ``LinearRegression() de sklearn.linear_model``.\n",
    "\n",
    "- Este modelo buscará **ajustar una línea recta** a los datos para hacer predicciones."
   ]
  },
  {
   "cell_type": "markdown",
   "metadata": {},
   "source": [
    "## **2️⃣ Entrenar el modelo con los datos de entrenamiento**\n",
    "\n",
    "``model_1.fit(pd.DataFrame(train.iloc[:, 2]), train.iloc[:, 3])``\n",
    "- ``train.iloc[:, 2]``: Toma la **tercera columna** de ``train`` (índice ``2``).\n",
    "\n",
    "- ``train.iloc[:, 3]``: Toma la **cuarta columna** de ``train`` (índice ``3``).\n",
    "\n",
    "- ``pd.DataFrame(...)``: Convierte ``train.iloc[:, 2]`` en un DataFrame, porque ``sklearn`` requiere que las **features** sean en formato de 2D (matriz de características).\n",
    "\n",
    "**🔹 Ejemplo:**     \n",
    "Si ``train.iloc[:, 2]`` representa **\"Petal Length\"** y ``train.iloc[:, 3]`` representa **\"Petal Width\"**, entonces estamos ajustando un modelo que predice el **ancho del pétalo** a partir de **su largo**."
   ]
  },
  {
   "attachments": {
    "image.png": {
     "image/png": "[encoded data removed]"
    }
   },
   "cell_type": "markdown",
   "metadata": {},
   "source": [
    "## **3️⃣ Imprimir los coeficientes del modelo**\n",
    "\n",
    "``print(\"Coef\\n\", model_1.coef_)``\n",
    "- ``model_1.coef_`` devuelve los **coeficientes (pendientes)** del modelo.\n",
    "\n",
    "- En una regresión lineal de la forma:\n",
    "\n",
    "$$Y = mx+b$$\n",
    "\n",
    "``coef_`` es el valor de ``m`` **(pendiente de la recta)**.\n",
    "\n",
    "**🔹 Ejemplo de salida:**\n",
    "\n",
    "![image.png](attachment:image.png)\n",
    "\n",
    "Esto significa que por **cada unidad que aumenta \"Petal Length\"**, el **\"Petal Width\"** aumenta en ``0.3``.\n",
    "\n"
   ]
  },
  {
   "attachments": {
    "image.png": {
     "image/png": "[encoded data removed]"
    }
   },
   "cell_type": "markdown",
   "metadata": {},
   "source": [
    "## **4️⃣ Imprimir el sesgo (bias/intercepto)**\n",
    "\n",
    "``print(\"\\n\\nBias\\n\", model_1.intercept_)``\n",
    "- ``model_1.intercept_`` es el **término independiente** ``b`` en la ecuación de la recta:\n",
    "\n",
    "$$y=mx+b$$\n",
    "\n",
    "- Representa **dónde la línea cruza el eje Y** cuando ``x = 0``.\n",
    "\n",
    "**🔹 Ejemplo de salida:**\n",
    "\n",
    "![image.png](attachment:image.png)\n",
    "\n",
    "Esto significa que si ``Petal Length = 0``, entonces el **Petal Width** predicho sería ``0.1``."
   ]
  },
  {
   "cell_type": "markdown",
   "metadata": {},
   "source": [
    "## **🔹 Resumen del código:**\n",
    "✅ Crea un modelo de regresión lineal.     \n",
    "✅ Entrena el modelo con **Petal Length** como entrada y **Petal Width** como salida.      \n",
    "✅ Muestra el coeficiente (``m``) y el bias (``b``).    "
   ]
  },
  {
   "cell_type": "code",
   "execution_count": 9,
   "metadata": {},
   "outputs": [
    {
     "data": {
      "image/png": "[encoded data removed]",
      "text/plain": [
       "<Figure size 500x500 with 1 Axes>"
      ]
     },
     "metadata": {},
     "output_type": "display_data"
    }
   ],
   "source": [
    "# Definimos variables para acceder de forma más simple a las columnas de nuestros features.\n",
    "plength = data[\"petal length (cm)\"]\n",
    "pwidth = data[\"petal width (cm)\"]\n",
    "\n",
    "# Definimos un arreglo desde el valor mímimo del petal length hasta el máximo del petal lenght + 1, en pasos de 0.5.\n",
    "xvals = np.arange(plength.min(), plength.max()+1, 0.5)\n",
    "\n",
    "# Ecuación de nuestra regresión lineal.\n",
    "yvals = 0.41*xvals - 0.36\n",
    "\n",
    "# Gráficamos nuestra recta con los datos y nuestra ecuación.\n",
    "f = plt.figure(figsize=(5,5))\n",
    "ax = f.add_subplot(1,1,1)\n",
    "ax.scatter(plength, pwidth)\n",
    "ax.plot(xvals, yvals, 'k', linewidth=3)\n",
    "ax.set_xlabel(\"Petal Length\")\n",
    "ax.set_ylabel(\"Petal Width\")\n",
    "ax.set_title(\"Petal Length v. Width\")\n",
    "f.tight_layout()"
   ]
  },
  {
   "cell_type": "markdown",
   "metadata": {},
   "source": [
    "## **1️⃣ Extraer columnas del DataFrame**\n",
    "\n",
    "``plength = data[\"petal length (cm)\"]``    \n",
    "``pwidth = data[\"petal width (cm)\"]``    \n",
    "- Se extraen las columnas **\"Petal Length\"** y **\"Petal Width\"** del DataFrame ``data``, lo que simplifica su uso en la gráfica."
   ]
  },
  {
   "attachments": {
    "image.png": {
     "image/png": "[encoded data removed]"
    }
   },
   "cell_type": "markdown",
   "metadata": {},
   "source": [
    "## **2️⃣ Generar un rango de valores para la predicción**\n",
    "\n",
    "``xvals = np.arange(plength.min(), plength.max()+1, 0.5)``\n",
    "- ``plength.min()`` → Valor mínimo de **\"Petal Length\"**.\n",
    "\n",
    "- ``plength.max()+1`` → Valor máximo + 1 (para extender un poco el rango).\n",
    "\n",
    "- ``0.5`` → Incremento entre valores (se generan puntos cada 0.5 unidades).\n",
    "\n",
    "- **Objetivo**: Crear valores de entrada ``x`` para graficar la línea de regresión.\n",
    "\n",
    "🔹 **Ejemplo de salida** (``xvals``) si el mínimo es 1 y el máximo es 6:\n",
    "\n",
    "![image.png](attachment:image.png)"
   ]
  },
  {
   "attachments": {
    "image.png": {
     "image/png": "[encoded data removed]"
    }
   },
   "cell_type": "markdown",
   "metadata": {},
   "source": [
    "## **3️⃣ Definir la ecuación de la regresión lineal**\n",
    "\n",
    "``yvals = 0.41*xvals - 0.36``\n",
    "- Se usa la ecuación de la recta:\n",
    "\n",
    "$$ y=mx+b$$\n",
    "donde:\n",
    "\n",
    "- ``m = 0.41`` (pendiente de la recta).\n",
    "\n",
    "- ``b = -0.36`` (intercepto o bias).\n",
    "\n",
    "- Esto genera valores ``yvals`` correspondientes a cada ``xvals``.\n",
    "\n",
    "🔹 Ejemplo de cálculo para ``x = 1.5``:\n",
    "\n",
    "![image.png](attachment:image.png)\n"
   ]
  },
  {
   "cell_type": "markdown",
   "metadata": {},
   "source": [
    "## **4️⃣ Graficar la regresión junto con los datos originales**\n",
    "```python\n",
    "f = plt.figure(figsize=(5,5))\n",
    "ax = f.add_subplot(1,1,1)\n",
    "# Gráfico de dispersión\n",
    "ax.scatter(plength, pwidth)\n",
    "# Línea de regresión en negro ('k'), grosor 3  \n",
    "ax.plot(xvals, yvals, 'k', linewidth=3)  \n",
    "ax.set_xlabel(\"Petal Length\")\n",
    "ax.set_ylabel(\"Petal Width\")\n",
    "ax.set_title(\"Petal Length v. Width\")\n",
    "f.tight_layout()\n",
    "```\n",
    "\n",
    "- ``ax.scatter(plength, pwidth)``: Grafica los puntos de datos originales.\n",
    "\n",
    "- ``ax.plot(xvals, yvals, 'k', linewidth=3)``:\n",
    "\n",
    "  - ``xvals`` → Valores en **X**.\n",
    "\n",
    "  - ``yvals`` → Valores en **Y** (predichos con la regresión).\n",
    "\n",
    "  - ``'k'`` → Color negro.\n",
    "\n",
    "  - ``linewidth=3`` → Grosor de la línea.\n",
    "\n",
    "#### **🔹 Visualización esperada:** \n",
    "\n",
    "**📌 Puntos dispersos** → Representan los datos originales.     \n",
    "**📌 Línea recta negra** → Muestra la predicción de la regresión."
   ]
  },
  {
   "cell_type": "markdown",
   "metadata": {},
   "source": [
    "## **🔹 Resumen del código:**\n",
    "✅ Extrae los datos de **\"Petal Length\"** y **\"Petal Width\"**.    \n",
    "✅ Crea valores ``xvals`` en un rango para la predicción.     \n",
    "✅ Define ``yvals`` con la ecuación de la regresión.       \n",
    "✅ Grafica los puntos originales y la línea de regresión. "
   ]
  },
  {
   "cell_type": "markdown",
   "metadata": {},
   "source": [
    "## Podemos mejorar el código"
   ]
  },
  {
   "cell_type": "code",
   "execution_count": 11,
   "metadata": {},
   "outputs": [
    {
     "data": {
      "image/png": "[encoded data removed]",
      "text/plain": [
       "<Figure size 500x500 with 1 Axes>"
      ]
     },
     "metadata": {},
     "output_type": "display_data"
    }
   ],
   "source": [
    "# Extraemos las columnas que usaremos para la regresión\n",
    "plength = data[\"petal length (cm)\"]\n",
    "pwidth = data[\"petal width (cm)\"]\n",
    "\n",
    "# Entrenamos el modelo de regresión lineal con los datos de entrenamiento\n",
    "model_1 = linear_model.LinearRegression()\n",
    "model_1.fit(train[[\"petal length (cm)\"]], train[\"petal width (cm)\"])\n",
    "\n",
    "# Extraemos la pendiente (coeficiente) y el intercepto (bias)\n",
    "m = model_1.coef_[0]      # Pendiente de la recta\n",
    "b = model_1.intercept_    # Intercepto\n",
    "\n",
    "# Generamos los valores de x para la recta\n",
    "xvals = np.arange(plength.min(), plength.max() + 1, 0.5)\n",
    "\n",
    "# Calculamos yvals usando los coeficientes del modelo\n",
    "yvals = m * xvals + b\n",
    "\n",
    "# Graficamos los datos y la regresión\n",
    "f = plt.figure(figsize=(5,5))\n",
    "ax = f.add_subplot(1,1,1)\n",
    "ax.scatter(plength, pwidth, label=\"Datos originales\")  # Puntos originales\n",
    "ax.plot(xvals, yvals, 'r', linewidth=3, label=\"Regresión lineal\")  # Línea de regresión en rojo\n",
    "ax.set_xlabel(\"Petal Length\")\n",
    "ax.set_ylabel(\"Petal Width\")\n",
    "ax.set_title(\"Petal Length v. Width\")\n",
    "ax.legend()  # Agrega una leyenda\n",
    "f.tight_layout()\n"
   ]
  },
  {
   "cell_type": "markdown",
   "metadata": {},
   "source": [
    "## **🔹 ¿Qué mejoras tiene este código?**\n",
    "✅ No usa coeficientes fijos → Obtiene m y b del modelo LinearRegression.      \n",
    "✅ Automatiza la ecuación → Si los datos cambian, la línea de regresión se ajusta sola.      \n",
    "✅ Gráfica más clara → La línea de regresión es roja ('r') y tiene una leyenda.     "
   ]
  },
  {
   "cell_type": "code",
   "execution_count": 10,
   "metadata": {},
   "outputs": [
    {
     "name": "stdout",
     "output_type": "stream",
     "text": [
      "MSE: 0.04\n",
      "R2: 0.94\n"
     ]
    }
   ],
   "source": [
    "# Predicción con model_1 = linear_model.LinearRegression() utilizando los datos de prueba.\n",
    "ypredict = model_1.predict(pd.DataFrame(test.iloc[:, 2]))\n",
    "\n",
    "# Calculamos el MSE con los valores predichos en y.\n",
    "print('MSE: %.2f'\n",
    "      % mean_squared_error(pd.DataFrame(test.iloc[:, 3]), ypredict))\n",
    "\n",
    "# Calculamos R^2 con los valores predichos en y.\n",
    "print('R2: %.2f'\n",
    "      % r2_score(pd.DataFrame(test.iloc[:, 3]), ypredict))"
   ]
  },
  {
   "cell_type": "markdown",
   "metadata": {},
   "source": [
    "## **🔹 Paso 1: Hacer predicciones con el modelo**\n",
    "``\n",
    "ypredict = model_1.predict(pd.DataFrame(test.iloc[:, 2]))\n",
    "``\n",
    "\n",
    "Aquí estamos usando el modelo de regresión lineal (``model_1``) para hacer predicciones sobre los datos de prueba.\n",
    "\n",
    "**📌 Explicación detallada:**\n",
    "\n",
    "- ``test.iloc[:, 2]`` → Selecciona la tercera columna de ``test``, que corresponde a **\"petal length (cm)\"**.\n",
    "\n",
    "- ``pd.DataFrame(...)`` → Convierte la columna en un ``DataFrame``, ya que ``predict()`` espera este formato.\n",
    "\n",
    "- ``model_1.predict(...)`` → Usa el modelo entrenado para predecir los valores de **\"petal width (cm)\"** a partir de **\"petal length (cm)\"**.\n",
    "\n",
    "- ``ypredict`` → Guarda las predicciones generadas.\n"
   ]
  },
  {
   "cell_type": "markdown",
   "metadata": {},
   "source": [
    "## **🔹 Paso 2: Calcular el Error Cuadrático Medio (MSE)**\n",
    "```python\n",
    "print('MSE: %.2f'\n",
    "      % mean_squared_error(pd.DataFrame(test.iloc[:, 3]), ypredict))\n",
    "```\n",
    "      \n",
    "Aquí estamos calculando el **Error Cuadrático Medio (MSE**), que mide qué tan lejos están nuestras predicciones de los valores reales.\n",
    "\n",
    "**📌 Explicación detallada:**\n",
    "\n",
    "- ``test.iloc[:, 3]`` → Obtiene la cuarta columna de ``test``, que es el **valor real de \"petal width (cm)\"**.\n",
    "\n",
    "- ``mean_squared_error(...)`` → Calcula el **MSE**, que es la media de los cuadrados de las diferencias entre los valores reales y predichos.\n",
    "\n",
    "- ``%.2f`` → Formatea el resultado para mostrar solo 2 decimales.\n",
    "\n",
    "**🔎 ¿Qué significa el MSE?**\n",
    "\n",
    "- Si el MSE es **cercano a 0**, significa que el modelo predice muy bien.\n",
    "\n",
    "- Si el MSE es alto, el modelo tiene mucho error y podría mejorarse.\n",
    "\n"
   ]
  },
  {
   "cell_type": "markdown",
   "metadata": {},
   "source": [
    "## **🔹 Paso 3: Calcular el Coeficiente de Determinación (R²)**\n",
    "```python\n",
    "print('R2: %.2f'\n",
    "      % r2_score(pd.DataFrame(test.iloc[:, 3]), ypredict))\n",
    "```    \n",
    "Aquí calculamos **el coeficiente de determinación (R²)**, que nos dice qué tan bien se ajusta la regresión a los datos.\n",
    "\n",
    "**📌 Explicación detallada:**\n",
    "\n",
    "- ``r2_score(...)`` → Calcula el **R²**, que mide la proporción de la variabilidad explicada por el modelo.\n",
    "\n",
    "- ``%.2f`` → Formatea el resultado para mostrar solo 2 decimales.\n",
    "\n",
    "**🔎 ¿Qué significa el R²?**\n",
    "\n",
    "- **R² ≈ 1** → El modelo es **excelente**, explica casi toda la variabilidad.\n",
    "\n",
    "- **R² ≈ 0** → El modelo **no explica nada**, las predicciones son aleatorias.\n",
    "\n",
    "- **R² negativo** → El modelo es **peor que adivinar el promedio.** 😬"
   ]
  },
  {
   "cell_type": "markdown",
   "metadata": {},
   "source": [
    "## **✨ Resumen final**\n",
    "**📌 ¿Qué hace este código?**     \n",
    "1️⃣ Predice los valores de \"petal width (cm)\" en los datos de prueba.    \n",
    "2️⃣ Calcula el MSE → Cuánto error tiene el modelo.     \n",
    "3️⃣ Calcula el R² → Qué tan bien explica el modelo los datos.    \n",
    "\n",
    "**📌 ¿Cómo interpretar los resultados?**\n",
    "\n",
    "- **Si MSE es bajo y R² es cercano a 1** → El modelo es bueno. ✅\n",
    "\n",
    "- **Si MSE es alto y R² es bajo** → El modelo tiene problemas. ❌"
   ]
  },
  {
   "cell_type": "code",
   "execution_count": 12,
   "metadata": {},
   "outputs": [
    {
     "data": {
      "text/html": [
       "<style>#sk-container-id-1 {\n",
       "  /* Definition of color scheme common for light and dark mode */\n",
       "  --sklearn-color-text: black;\n",
       "  --sklearn-color-line: gray;\n",
       "  /* Definition of color scheme for unfitted estimators */\n",
       "  --sklearn-color-unfitted-level-0: #fff5e6;\n",
       "  --sklearn-color-unfitted-level-1: #f6e4d2;\n",
       "  --sklearn-color-unfitted-level-2: #ffe0b3;\n",
       "  --sklearn-color-unfitted-level-3: chocolate;\n",
       "  /* Definition of color scheme for fitted estimators */\n",
       "  --sklearn-color-fitted-level-0: #f0f8ff;\n",
       "  --sklearn-color-fitted-level-1: #d4ebff;\n",
       "  --sklearn-color-fitted-level-2: #b3dbfd;\n",
       "  --sklearn-color-fitted-level-3: cornflowerblue;\n",
       "\n",
       "  /* Specific color for light theme */\n",
       "  --sklearn-color-text-on-default-background: var(--sg-text-color, var(--theme-code-foreground, var(--jp-content-font-color1, black)));\n",
       "  --sklearn-color-background: var(--sg-background-color, var(--theme-background, var(--jp-layout-color0, white)));\n",
       "  --sklearn-color-border-box: var(--sg-text-color, var(--theme-code-foreground, var(--jp-content-font-color1, black)));\n",
       "  --sklearn-color-icon: #696969;\n",
       "\n",
       "  @media (prefers-color-scheme: dark) {\n",
       "    /* Redefinition of color scheme for dark theme */\n",
       "    --sklearn-color-text-on-default-background: var(--sg-text-color, var(--theme-code-foreground, var(--jp-content-font-color1, white)));\n",
       "    --sklearn-color-background: var(--sg-background-color, var(--theme-background, var(--jp-layout-color0, #111)));\n",
       "    --sklearn-color-border-box: var(--sg-text-color, var(--theme-code-foreground, var(--jp-content-font-color1, white)));\n",
       "    --sklearn-color-icon: #878787;\n",
       "  }\n",
       "}\n",
       "\n",
       "#sk-container-id-1 {\n",
       "  color: var(--sklearn-color-text);\n",
       "}\n",
       "\n",
       "#sk-container-id-1 pre {\n",
       "  padding: 0;\n",
       "}\n",
       "\n",
       "#sk-container-id-1 input.sk-hidden--visually {\n",
       "  border: 0;\n",
       "  clip: rect(1px 1px 1px 1px);\n",
       "  clip: rect(1px, 1px, 1px, 1px);\n",
       "  height: 1px;\n",
       "  margin: -1px;\n",
       "  overflow: hidden;\n",
       "  padding: 0;\n",
       "  position: absolute;\n",
       "  width: 1px;\n",
       "}\n",
       "\n",
       "#sk-container-id-1 div.sk-dashed-wrapped {\n",
       "  border: 1px dashed var(--sklearn-color-line);\n",
       "  margin: 0 0.4em 0.5em 0.4em;\n",
       "  box-sizing: border-box;\n",
       "  padding-bottom: 0.4em;\n",
       "  background-color: var(--sklearn-color-background);\n",
       "}\n",
       "\n",
       "#sk-container-id-1 div.sk-container {\n",
       "  /* jupyter's `normalize.less` sets `[hidden] { display: none; }`\n",
       "     but bootstrap.min.css set `[hidden] { display: none !important; }`\n",
       "     so we also need the `!important` here to be able to override the\n",
       "     default hidden behavior on the sphinx rendered scikit-learn.org.\n",
       "     See: https://github.com/scikit-learn/scikit-learn/issues/21755 */\n",
       "  display: inline-block !important;\n",
       "  position: relative;\n",
       "}\n",
       "\n",
       "#sk-container-id-1 div.sk-text-repr-fallback {\n",
       "  display: none;\n",
       "}\n",
       "\n",
       "div.sk-parallel-item,\n",
       "div.sk-serial,\n",
       "div.sk-item {\n",
       "  /* draw centered vertical line to link estimators */\n",
       "  background-image: linear-gradient(var(--sklearn-color-text-on-default-background), var(--sklearn-color-text-on-default-background));\n",
       "  background-size: 2px 100%;\n",
       "  background-repeat: no-repeat;\n",
       "  background-position: center center;\n",
       "}\n",
       "\n",
       "/* Parallel-specific style estimator block */\n",
       "\n",
       "#sk-container-id-1 div.sk-parallel-item::after {\n",
       "  content: \"\";\n",
       "  width: 100%;\n",
       "  border-bottom: 2px solid var(--sklearn-color-text-on-default-background);\n",
       "  flex-grow: 1;\n",
       "}\n",
       "\n",
       "#sk-container-id-1 div.sk-parallel {\n",
       "  display: flex;\n",
       "  align-items: stretch;\n",
       "  justify-content: center;\n",
       "  background-color: var(--sklearn-color-background);\n",
       "  position: relative;\n",
       "}\n",
       "\n",
       "#sk-container-id-1 div.sk-parallel-item {\n",
       "  display: flex;\n",
       "  flex-direction: column;\n",
       "}\n",
       "\n",
       "#sk-container-id-1 div.sk-parallel-item:first-child::after {\n",
       "  align-self: flex-end;\n",
       "  width: 50%;\n",
       "}\n",
       "\n",
       "#sk-container-id-1 div.sk-parallel-item:last-child::after {\n",
       "  align-self: flex-start;\n",
       "  width: 50%;\n",
       "}\n",
       "\n",
       "#sk-container-id-1 div.sk-parallel-item:only-child::after {\n",
       "  width: 0;\n",
       "}\n",
       "\n",
       "/* Serial-specific style estimator block */\n",
       "\n",
       "#sk-container-id-1 div.sk-serial {\n",
       "  display: flex;\n",
       "  flex-direction: column;\n",
       "  align-items: center;\n",
       "  background-color: var(--sklearn-color-background);\n",
       "  padding-right: 1em;\n",
       "  padding-left: 1em;\n",
       "}\n",
       "\n",
       "\n",
       "/* Toggleable style: style used for estimator/Pipeline/ColumnTransformer box that is\n",
       "clickable and can be expanded/collapsed.\n",
       "- Pipeline and ColumnTransformer use this feature and define the default style\n",
       "- Estimators will overwrite some part of the style using the `sk-estimator` class\n",
       "*/\n",
       "\n",
       "/* Pipeline and ColumnTransformer style (default) */\n",
       "\n",
       "#sk-container-id-1 div.sk-toggleable {\n",
       "  /* Default theme specific background. It is overwritten whether we have a\n",
       "  specific estimator or a Pipeline/ColumnTransformer */\n",
       "  background-color: var(--sklearn-color-background);\n",
       "}\n",
       "\n",
       "/* Toggleable label */\n",
       "#sk-container-id-1 label.sk-toggleable__label {\n",
       "  cursor: pointer;\n",
       "  display: block;\n",
       "  width: 100%;\n",
       "  margin-bottom: 0;\n",
       "  padding: 0.5em;\n",
       "  box-sizing: border-box;\n",
       "  text-align: center;\n",
       "}\n",
       "\n",
       "#sk-container-id-1 label.sk-toggleable__label-arrow:before {\n",
       "  /* Arrow on the left of the label */\n",
       "  content: \"▸\";\n",
       "  float: left;\n",
       "  margin-right: 0.25em;\n",
       "  color: var(--sklearn-color-icon);\n",
       "}\n",
       "\n",
       "#sk-container-id-1 label.sk-toggleable__label-arrow:hover:before {\n",
       "  color: var(--sklearn-color-text);\n",
       "}\n",
       "\n",
       "/* Toggleable content - dropdown */\n",
       "\n",
       "#sk-container-id-1 div.sk-toggleable__content {\n",
       "  max-height: 0;\n",
       "  max-width: 0;\n",
       "  overflow: hidden;\n",
       "  text-align: left;\n",
       "  /* unfitted */\n",
       "  background-color: var(--sklearn-color-unfitted-level-0);\n",
       "}\n",
       "\n",
       "#sk-container-id-1 div.sk-toggleable__content.fitted {\n",
       "  /* fitted */\n",
       "  background-color: var(--sklearn-color-fitted-level-0);\n",
       "}\n",
       "\n",
       "#sk-container-id-1 div.sk-toggleable__content pre {\n",
       "  margin: 0.2em;\n",
       "  border-radius: 0.25em;\n",
       "  color: var(--sklearn-color-text);\n",
       "  /* unfitted */\n",
       "  background-color: var(--sklearn-color-unfitted-level-0);\n",
       "}\n",
       "\n",
       "#sk-container-id-1 div.sk-toggleable__content.fitted pre {\n",
       "  /* unfitted */\n",
       "  background-color: var(--sklearn-color-fitted-level-0);\n",
       "}\n",
       "\n",
       "#sk-container-id-1 input.sk-toggleable__control:checked~div.sk-toggleable__content {\n",
       "  /* Expand drop-down */\n",
       "  max-height: 200px;\n",
       "  max-width: 100%;\n",
       "  overflow: auto;\n",
       "}\n",
       "\n",
       "#sk-container-id-1 input.sk-toggleable__control:checked~label.sk-toggleable__label-arrow:before {\n",
       "  content: \"▾\";\n",
       "}\n",
       "\n",
       "/* Pipeline/ColumnTransformer-specific style */\n",
       "\n",
       "#sk-container-id-1 div.sk-label input.sk-toggleable__control:checked~label.sk-toggleable__label {\n",
       "  color: var(--sklearn-color-text);\n",
       "  background-color: var(--sklearn-color-unfitted-level-2);\n",
       "}\n",
       "\n",
       "#sk-container-id-1 div.sk-label.fitted input.sk-toggleable__control:checked~label.sk-toggleable__label {\n",
       "  background-color: var(--sklearn-color-fitted-level-2);\n",
       "}\n",
       "\n",
       "/* Estimator-specific style */\n",
       "\n",
       "/* Colorize estimator box */\n",
       "#sk-container-id-1 div.sk-estimator input.sk-toggleable__control:checked~label.sk-toggleable__label {\n",
       "  /* unfitted */\n",
       "  background-color: var(--sklearn-color-unfitted-level-2);\n",
       "}\n",
       "\n",
       "#sk-container-id-1 div.sk-estimator.fitted input.sk-toggleable__control:checked~label.sk-toggleable__label {\n",
       "  /* fitted */\n",
       "  background-color: var(--sklearn-color-fitted-level-2);\n",
       "}\n",
       "\n",
       "#sk-container-id-1 div.sk-label label.sk-toggleable__label,\n",
       "#sk-container-id-1 div.sk-label label {\n",
       "  /* The background is the default theme color */\n",
       "  color: var(--sklearn-color-text-on-default-background);\n",
       "}\n",
       "\n",
       "/* On hover, darken the color of the background */\n",
       "#sk-container-id-1 div.sk-label:hover label.sk-toggleable__label {\n",
       "  color: var(--sklearn-color-text);\n",
       "  background-color: var(--sklearn-color-unfitted-level-2);\n",
       "}\n",
       "\n",
       "/* Label box, darken color on hover, fitted */\n",
       "#sk-container-id-1 div.sk-label.fitted:hover label.sk-toggleable__label.fitted {\n",
       "  color: var(--sklearn-color-text);\n",
       "  background-color: var(--sklearn-color-fitted-level-2);\n",
       "}\n",
       "\n",
       "/* Estimator label */\n",
       "\n",
       "#sk-container-id-1 div.sk-label label {\n",
       "  font-family: monospace;\n",
       "  font-weight: bold;\n",
       "  display: inline-block;\n",
       "  line-height: 1.2em;\n",
       "}\n",
       "\n",
       "#sk-container-id-1 div.sk-label-container {\n",
       "  text-align: center;\n",
       "}\n",
       "\n",
       "/* Estimator-specific */\n",
       "#sk-container-id-1 div.sk-estimator {\n",
       "  font-family: monospace;\n",
       "  border: 1px dotted var(--sklearn-color-border-box);\n",
       "  border-radius: 0.25em;\n",
       "  box-sizing: border-box;\n",
       "  margin-bottom: 0.5em;\n",
       "  /* unfitted */\n",
       "  background-color: var(--sklearn-color-unfitted-level-0);\n",
       "}\n",
       "\n",
       "#sk-container-id-1 div.sk-estimator.fitted {\n",
       "  /* fitted */\n",
       "  background-color: var(--sklearn-color-fitted-level-0);\n",
       "}\n",
       "\n",
       "/* on hover */\n",
       "#sk-container-id-1 div.sk-estimator:hover {\n",
       "  /* unfitted */\n",
       "  background-color: var(--sklearn-color-unfitted-level-2);\n",
       "}\n",
       "\n",
       "#sk-container-id-1 div.sk-estimator.fitted:hover {\n",
       "  /* fitted */\n",
       "  background-color: var(--sklearn-color-fitted-level-2);\n",
       "}\n",
       "\n",
       "/* Specification for estimator info (e.g. \"i\" and \"?\") */\n",
       "\n",
       "/* Common style for \"i\" and \"?\" */\n",
       "\n",
       ".sk-estimator-doc-link,\n",
       "a:link.sk-estimator-doc-link,\n",
       "a:visited.sk-estimator-doc-link {\n",
       "  float: right;\n",
       "  font-size: smaller;\n",
       "  line-height: 1em;\n",
       "  font-family: monospace;\n",
       "  background-color: var(--sklearn-color-background);\n",
       "  border-radius: 1em;\n",
       "  height: 1em;\n",
       "  width: 1em;\n",
       "  text-decoration: none !important;\n",
       "  margin-left: 1ex;\n",
       "  /* unfitted */\n",
       "  border: var(--sklearn-color-unfitted-level-1) 1pt solid;\n",
       "  color: var(--sklearn-color-unfitted-level-1);\n",
       "}\n",
       "\n",
       ".sk-estimator-doc-link.fitted,\n",
       "a:link.sk-estimator-doc-link.fitted,\n",
       "a:visited.sk-estimator-doc-link.fitted {\n",
       "  /* fitted */\n",
       "  border: var(--sklearn-color-fitted-level-1) 1pt solid;\n",
       "  color: var(--sklearn-color-fitted-level-1);\n",
       "}\n",
       "\n",
       "/* On hover */\n",
       "div.sk-estimator:hover .sk-estimator-doc-link:hover,\n",
       ".sk-estimator-doc-link:hover,\n",
       "div.sk-label-container:hover .sk-estimator-doc-link:hover,\n",
       ".sk-estimator-doc-link:hover {\n",
       "  /* unfitted */\n",
       "  background-color: var(--sklearn-color-unfitted-level-3);\n",
       "  color: var(--sklearn-color-background);\n",
       "  text-decoration: none;\n",
       "}\n",
       "\n",
       "div.sk-estimator.fitted:hover .sk-estimator-doc-link.fitted:hover,\n",
       ".sk-estimator-doc-link.fitted:hover,\n",
       "div.sk-label-container:hover .sk-estimator-doc-link.fitted:hover,\n",
       ".sk-estimator-doc-link.fitted:hover {\n",
       "  /* fitted */\n",
       "  background-color: var(--sklearn-color-fitted-level-3);\n",
       "  color: var(--sklearn-color-background);\n",
       "  text-decoration: none;\n",
       "}\n",
       "\n",
       "/* Span, style for the box shown on hovering the info icon */\n",
       ".sk-estimator-doc-link span {\n",
       "  display: none;\n",
       "  z-index: 9999;\n",
       "  position: relative;\n",
       "  font-weight: normal;\n",
       "  right: .2ex;\n",
       "  padding: .5ex;\n",
       "  margin: .5ex;\n",
       "  width: min-content;\n",
       "  min-width: 20ex;\n",
       "  max-width: 50ex;\n",
       "  color: var(--sklearn-color-text);\n",
       "  box-shadow: 2pt 2pt 4pt #999;\n",
       "  /* unfitted */\n",
       "  background: var(--sklearn-color-unfitted-level-0);\n",
       "  border: .5pt solid var(--sklearn-color-unfitted-level-3);\n",
       "}\n",
       "\n",
       ".sk-estimator-doc-link.fitted span {\n",
       "  /* fitted */\n",
       "  background: var(--sklearn-color-fitted-level-0);\n",
       "  border: var(--sklearn-color-fitted-level-3);\n",
       "}\n",
       "\n",
       ".sk-estimator-doc-link:hover span {\n",
       "  display: block;\n",
       "}\n",
       "\n",
       "/* \"?\"-specific style due to the `<a>` HTML tag */\n",
       "\n",
       "#sk-container-id-1 a.estimator_doc_link {\n",
       "  float: right;\n",
       "  font-size: 1rem;\n",
       "  line-height: 1em;\n",
       "  font-family: monospace;\n",
       "  background-color: var(--sklearn-color-background);\n",
       "  border-radius: 1rem;\n",
       "  height: 1rem;\n",
       "  width: 1rem;\n",
       "  text-decoration: none;\n",
       "  /* unfitted */\n",
       "  color: var(--sklearn-color-unfitted-level-1);\n",
       "  border: var(--sklearn-color-unfitted-level-1) 1pt solid;\n",
       "}\n",
       "\n",
       "#sk-container-id-1 a.estimator_doc_link.fitted {\n",
       "  /* fitted */\n",
       "  border: var(--sklearn-color-fitted-level-1) 1pt solid;\n",
       "  color: var(--sklearn-color-fitted-level-1);\n",
       "}\n",
       "\n",
       "/* On hover */\n",
       "#sk-container-id-1 a.estimator_doc_link:hover {\n",
       "  /* unfitted */\n",
       "  background-color: var(--sklearn-color-unfitted-level-3);\n",
       "  color: var(--sklearn-color-background);\n",
       "  text-decoration: none;\n",
       "}\n",
       "\n",
       "#sk-container-id-1 a.estimator_doc_link.fitted:hover {\n",
       "  /* fitted */\n",
       "  background-color: var(--sklearn-color-fitted-level-3);\n",
       "}\n",
       "</style><div id=\"sk-container-id-1\" class=\"sk-top-container\"><div class=\"sk-text-repr-fallback\"><pre>LogisticRegression()</pre><b>In a Jupyter environment, please rerun this cell to show the HTML representation or trust the notebook. <br />On GitHub, the HTML representation is unable to render, please try loading this page with nbviewer.org.</b></div><div class=\"sk-container\" hidden><div class=\"sk-item\"><div class=\"sk-estimator fitted sk-toggleable\"><input class=\"sk-toggleable__control sk-hidden--visually\" id=\"sk-estimator-id-1\" type=\"checkbox\" checked><label for=\"sk-estimator-id-1\" class=\"sk-toggleable__label fitted sk-toggleable__label-arrow fitted\">&nbsp;&nbsp;LogisticRegression<a class=\"sk-estimator-doc-link fitted\" rel=\"noreferrer\" target=\"_blank\" href=\"https://scikit-learn.org/1.5/modules/generated/sklearn.linear_model.LogisticRegression.html\">?<span>Documentation for LogisticRegression</span></a><span class=\"sk-estimator-doc-link fitted\">i<span>Fitted</span></span></label><div class=\"sk-toggleable__content fitted\"><pre>LogisticRegression()</pre></div> </div></div></div></div>"
      ],
      "text/plain": [
       "LogisticRegression()"
      ]
     },
     "execution_count": 12,
     "metadata": {},
     "output_type": "execute_result"
    }
   ],
   "source": [
    "# Preparamos los datos de entrenamiento y prueba en x y y.\n",
    "# La última columna es la etiqueta de la especie..\n",
    "xtrain = train.iloc[:, :-1] # input, training\n",
    "ytrain = train.iloc[:, -1] # output, training\n",
    "xtest = test.iloc[:, :-1] # input, test\n",
    "ytest = test.iloc[:, -1] # output, test\n",
    "\n",
    "# Configuramos la regresión logística con el método de regresión logística de linear_model.\n",
    "model_2 = linear_model.LogisticRegression()\n",
    "\n",
    "# Ajustamos el modelo con los datos de entrenamiento.\n",
    "model_2.fit(xtrain, ytrain)"
   ]
  },
  {
   "cell_type": "markdown",
   "metadata": {},
   "source": [
    "Este bloque de código está preparando los datos para entrenar un modelo de **Regresión Logística** con ``sklearn``. Veamos qué hace cada parte:"
   ]
  },
  {
   "attachments": {
    "image.png": {
     "image/png": "[encoded data removed]"
    }
   },
   "cell_type": "markdown",
   "metadata": {},
   "source": [
    "## **🔹 Paso 1: Separar las variables de entrada (X) y salida (Y)**\n",
    "```python\n",
    "xtrain = train.iloc[:, :-1]  # input, training\n",
    "ytrain = train.iloc[:, -1]   # output, training\n",
    "xtest = test.iloc[:, :-1]    # input, test\n",
    "ytest = test.iloc[:, -1]     # output, test\n",
    "```    \n",
    "**📌 Explicación:**\n",
    "\n",
    "- ``train.iloc[:, :-1]`` → Toma **todas las columnas excepto la última** (características de la flor).\n",
    "\n",
    "- ``train.iloc[:, -1]`` → Toma **solo la última columna**, que es **la especie de la flor** (etiqueta o clase).\n",
    "\n",
    "- Lo mismo se hace con ``test`` para obtener ``xtest`` y ``ytest``.\n",
    "\n",
    "**🔎 Ejemplo de cómo quedan los datos:**\n",
    "\n",
    "![image.png](attachment:image.png)\n",
    "\n",
    "**Aquí:**\n",
    "\n",
    "- ``xtrain`` tiene **todas las columnas excepto \"species\".**\n",
    "\n",
    "- ``ytrain`` tiene **solo la columna \"species\".**"
   ]
  },
  {
   "cell_type": "markdown",
   "metadata": {},
   "source": [
    "## **🔹 Paso 2: Crear el modelo de Regresión Logística**\n",
    "``model_2 = linear_model.LogisticRegression()``\n",
    "\n",
    "**📌 Explicación:**\n",
    "\n",
    "- ``linear_model.LogisticRegression()`` → Crea un modelo de **clasificación** basado en Regresión Logística.\n",
    "\n",
    "**🔎 ¿Por qué usamos regresión logística?**\n",
    "\n",
    "- Se usa cuando la variable objetivo (``y``) es **categórica** (en este caso, el tipo de flor).\n",
    "\n",
    "- Permite clasificar observaciones en **diferentes clases** basándose en probabilidades.\n",
    "\n"
   ]
  },
  {
   "cell_type": "markdown",
   "metadata": {},
   "source": [
    "## **🔹 Paso 3: Entrenar el modelo con los datos de entrenamiento**\n",
    "``model_2.fit(xtrain, ytrain)``\n",
    "\n",
    "**📌 Explicación:**\n",
    "\n",
    "- ``model_2.fit(xtrain, ytrain)`` → Ajusta el modelo a los datos de entrenamiento.\n",
    "\n",
    "- Encuentra los **coeficientes** y el ``sesgo`` para separar correctamente las especies de flores."
   ]
  },
  {
   "cell_type": "markdown",
   "metadata": {},
   "source": [
    "## **✨ Resumen**\n",
    "**📌 ¿Qué hace este código?**     \n",
    "1️⃣ Separa las características (``X``) y la etiqueta (``Y``).     \n",
    "2️⃣ Crea un modelo de **Regresión Logística**.     \n",
    "3️⃣ **Entrena** el modelo con los datos de entrenamiento (``xtrain``, ``ytrain``).\n",
    "\n",
    "**📌 ¿Qué podemos hacer después?**    \n",
    "Ahora podríamos **evaluar** qué tan bien clasifica el modelo con los datos de prueba (``xtest``, ``ytest``)."
   ]
  },
  {
   "cell_type": "code",
   "execution_count": 13,
   "metadata": {},
   "outputs": [
    {
     "name": "stdout",
     "output_type": "stream",
     "text": [
      "Testing accuracy = 1.0\n"
     ]
    }
   ],
   "source": [
    "# Hacer predicciones con el conjunto de prueba.\n",
    "ypred = model_2.predict(xtest)\n",
    "\n",
    "# Probamos el accuracy del modelo generado\n",
    "print(\"Testing accuracy =\", accuracy_score(ytest, ypred))"
   ]
  },
  {
   "cell_type": "markdown",
   "metadata": {},
   "source": [
    "Este bloque de código realiza la **predicción** y la **evaluación** de un modelo de **Regresión Logística** que ya fue entrenado. Vamos a desglosarlo paso a paso:"
   ]
  },
  {
   "cell_type": "markdown",
   "metadata": {},
   "source": [
    "## **🔹 Paso 1: Hacer predicciones con el conjunto de prueba**\n",
    "\n",
    "``ypred = model_2.predict(xtest)``\n",
    "\n",
    "**📌 Explicación:**\n",
    "\n",
    "- ``model_2.predict(xtest)`` → Utiliza el modelo entrenado (``model_2``) para hacer **predicciones** sobre los datos de prueba (``xtest``).\n",
    "\n",
    "- ``xtest`` contiene las **características de la flor** (como \"petal length\", \"petal width\", etc.), y el modelo devuelve una **predicción de las especies** de las flores (por ejemplo, \"setosa\", \"versicolor\", \"virginica\").\n",
    "\n",
    "- ``ypred`` guarda las **predicciones** generadas por el modelo para cada instancia de ``xtest``.\n",
    "\n"
   ]
  },
  {
   "cell_type": "markdown",
   "metadata": {},
   "source": [
    "## **🔹 Paso 2: Evaluar la precisión del modelo**\n",
    "\n",
    "``print(\"Testing accuracy =\", accuracy_score(ytest, ypred))``\n",
    "\n",
    "**📌 Explicación:**\n",
    "\n",
    "- ``accuracy_score(ytest, ypred)`` → Calcula la **precisión** del modelo, que es la fracción de **predicciones correctas**.\n",
    "\n",
    "- ``ytest`` → Los valores reales de las especies en el conjunto de prueba.\n",
    "\n",
    "- ``ypred`` → Las predicciones realizadas por el modelo.\n",
    "\n",
    "- ``accuracy_score`` compara estos dos vectores y calcula el porcentaje de veces que el modelo acertó.\n",
    "\n",
    "- ``print(\"Testing accuracy =\", ...)`` → Muestra el resultado en la consola, indicando qué tan bien el modelo logró predecir las especies en el conjunto de prueba.\n",
    "\n",
    "**🔎 ¿Qué es la precisión?**     \n",
    "\n",
    "La precisión se calcula como:\n",
    "$$\\text{Precisión} = \\frac{\\text{Predicciones correctas}}{\\text{Total de Predicciones}} × 100$$"
   ]
  },
  {
   "cell_type": "markdown",
   "metadata": {},
   "source": [
    "## **✨ Resumen**\n",
    "**📌 ¿Qué hace este código?**\n",
    "\n",
    "1️⃣ **Realiza predicciones** usando el modelo de Regresión Logística sobre el conjunto de prueba (``xtest``).  \n",
    "2️⃣ **Evalúa la precisión** del modelo al comparar las predicciones (``ypred``) con los valores reales (``ytest``).     \n",
    "3️⃣ Imprime el **porcentaje de precisión** en el conjunto de prueba.\n",
    "\n",
    "**📌 ¿Qué podemos hacer después?**     \n",
    "Si la precisión es alta, entonces el modelo funciona bien. Si no es tan alta, podríamos probar otros modelos o mejorar la calidad de los datos."
   ]
  },
  {
   "cell_type": "markdown",
   "metadata": {},
   "source": [
    "La **precisión (accuracy)** está en un rango de valores entre **0 y 1**, o si se expresa en porcentaje, entre **0% y 100%**.\n",
    "\n",
    "**📌 Interpretación de la Precisión**\n",
    "- **Cercano a 1 (o 100%)** → El modelo es muy preciso y casi todas las predicciones son correctas.\n",
    "\n",
    "- **Cercano a 0 (o 0%)** → El modelo no tiene precisión y está fallando en la mayoría de las predicciones.\n",
    "\n",
    "- **50% (0.5)** → Equivalente a predecir al azar (como lanzar una moneda).\n",
    "\n",
    "- **70%-90%** → Un modelo aceptable, dependiendo del problema.\n",
    "\n",
    "- **95%-100%** → Podría indicar un excelente modelo o posible sobreajuste (overfitting).\n",
    "\n",
    "**📌 ¿Qué precisión es buena?**\n",
    "\n",
    "Depende del problema:\n",
    "\n",
    "- **Clasificación simple** (ej. spam o no spam) → Se espera **>80%**.\n",
    "\n",
    "- **Problemas complejos** (ej. reconocimiento de imágenes) → A veces, **> 70%** ya es bueno.\n",
    "\n",
    "- **Modelos biomédicos o financieros** → Se busca **>90%**, pero también se analiza **sensibilidad** y **especificidad**."
   ]
  },
  {
   "cell_type": "code",
   "execution_count": 14,
   "metadata": {},
   "outputs": [
    {
     "data": {
      "text/plain": [
       "array([[11,  0,  0],\n",
       "       [ 0,  7,  0],\n",
       "       [ 0,  0, 12]])"
      ]
     },
     "execution_count": 14,
     "metadata": {},
     "output_type": "execute_result"
    }
   ],
   "source": [
    "# Un ejemplo de la matriz de confusión con sklearn\n",
    "#Importamos el método de matriz de confusión desde sklearn\n",
    "from sklearn.metrics import confusion_matrix\n",
    "\n",
    "#Aplicamos la matriz a nuestros valores de testing y los valores de predicción generados.\n",
    "confusion_matrix(ytest, ypred)"
   ]
  },
  {
   "cell_type": "markdown",
   "metadata": {},
   "source": [
    "**📌 Explicación del Código: Matriz de Confusión**    \n",
    "\n",
    "Este bloque de código genera una **matriz de confusión** para evaluar el rendimiento del modelo de clasificación.\n",
    "\n",
    "# **🔹 Paso a Paso**\n",
    "## **1️⃣ Importación de la función de matriz de confusión**\n",
    "\n",
    "``from sklearn.metrics import confusion_matrix``\n",
    "\n",
    "- ``confusion_matrix`` es una función de ``sklearn.metrics`` que permite evaluar el desempeño de un modelo de clasificación.\n",
    "\n",
    "## **2️⃣ Cálculo de la matriz de confusión**\n",
    "\n",
    "``confusion_matrix(ytest, ypred)``    \n",
    "- Se comparan las etiquetas reales (``ytest``) con las **predicciones** (``ypred``).\n",
    "\n",
    "- Devuelve una matriz cuadrada donde:\n",
    "\n",
    "    - **Filas**: Representan las clases reales.\n",
    "  \n",
    "    - **Columnas**: Representan las predicciones del modelo.\n",
    "  \n",
    "    - Cada celda indica cuántos datos fueron correctamente o incorrectamente clasificados."
   ]
  },
  {
   "cell_type": "markdown",
   "metadata": {},
   "source": [
    "### **📌 ¿Cómo interpretar la matriz de confusión?**\n",
    "Para el dataset **Iris**, que tiene 3 clases (tres especies de flores), la matriz será de **3x3**.\n",
    "\n",
    "Ejemplo de salida:\n",
    "```lua\n",
    "[[19  0  0]\n",
    " [ 0 15  1]\n",
    " [ 0  0 15]]\n",
    " ```\n",
    "\n",
    "Donde:\n",
    "\n",
    "- **Fila 1 (Setosa)** → [19, 0, 0]\n",
    "\n",
    "    - 19 setosas fueron clasificadas correctamente.\n",
    "\n",
    "    - 0 fueron clasificadas como otra especie.\n",
    "\n",
    "- **Fila 2 (Versicolor)** → [0, 15, 1]\n",
    "\n",
    "    - 15 versicolores fueron clasificadas correctamente.\n",
    "\n",
    "    - 1 fue mal clasificada.\n",
    "\n",
    "- **Fila 3 (Virginica)** → [0, 0, 15]\n",
    "\n",
    "    - 15 virginicas fueron clasificadas correctamente.\n",
    "\n",
    "    - 0 fueron mal clasificadas.\n",
    "\n",
    "**📌 Si la matriz tiene valores fuera de la diagonal principal, significa que el modelo ha cometido errores de clasificación.**"
   ]
  },
  {
   "cell_type": "markdown",
   "metadata": {},
   "source": [
    "## **📌 ¿Cómo usar esta información?**\n",
    "- **Si la matriz es diagonal** (sin valores fuera de la diagonal), el modelo tiene 100% de precisión.\n",
    "\n",
    "- **Si hay errores**, podemos mejorar el modelo ajustando hiperparámetros o usando más datos."
   ]
  },
  {
   "cell_type": "code",
   "execution_count": 15,
   "metadata": {},
   "outputs": [
    {
     "name": "stdout",
     "output_type": "stream",
     "text": [
      "Testing accuracy = 1.0\n"
     ]
    }
   ],
   "source": [
    "# Creamos el clasificador\n",
    "clf = RandomForestClassifier(n_estimators=3)\n",
    "\n",
    "# Entrenamos el modelo\n",
    "clf.fit(xtrain, ytrain)\n",
    "\n",
    "# Generamos predicción\n",
    "y_pred=clf.predict(xtest)\n",
    "\n",
    "# Probamos el modelo con accuracy\n",
    "print(\"Testing accuracy =\", accuracy_score(ytest, ypred))"
   ]
  },
  {
   "cell_type": "markdown",
   "metadata": {},
   "source": [
    "## **📌 Explicación del Código: Random Forest Classifier 🌳🌲**\n",
    "Este código implementa un **clasificador de bosques aleatorios** (``RandomForestClassifier``) para clasificar las especies de flores en el dataset **Iris**."
   ]
  },
  {
   "cell_type": "markdown",
   "metadata": {},
   "source": [
    "# **🔹 Paso a Paso**\n",
    "## **1️⃣ Creación del clasificador Random Forest**\n",
    "\n",
    "``clf = RandomForestClassifier(n_estimators=3)``    \n",
    "- Se crea un modelo de **Random Forest** con **3 árboles de decisión** (``n_estimators=3``).\n",
    "\n",
    "- **¿Qué es Random Forest?**\n",
    "\n",
    "  - Es un conjunto de múltiples **árboles de decisión**.\n",
    "\n",
    "  - Cada árbol hace una predicción y el modelo toma la decisión final por **votación mayoritaria**.\n",
    "\n"
   ]
  },
  {
   "cell_type": "markdown",
   "metadata": {},
   "source": [
    "## **2️⃣ Entrenamiento del modelo**\n",
    "\n",
    "``clf.fit(xtrain, ytrain)``     \n",
    "- Ajusta el modelo con los **datos de entrenamiento** (``xtrain``, ``ytrain``).\n",
    "\n",
    "- Aprende patrones en los datos para clasificar nuevas observaciones.\n",
    "\n"
   ]
  },
  {
   "cell_type": "markdown",
   "metadata": {},
   "source": [
    "## **3️⃣ Predicción con datos de prueba**\n",
    "\n",
    "``y_pred = clf.predict(xtest)``\n",
    "- Utiliza el modelo entrenado para **predecir las especies** en los datos de prueba (``xtest``).\n",
    "\n",
    "- ``y_pred`` almacena las etiquetas predichas para cada flor.\n",
    "\n"
   ]
  },
  {
   "cell_type": "markdown",
   "metadata": {},
   "source": [
    "## **4️⃣ Cálculo del Accuracy**\n",
    "\n",
    "``print(\"Testing accuracy =\", accuracy_score(ytest, ypred))``\n",
    "- Compara las etiquetas reales (``ytest``) con las predicciones (``y_pred``).\n",
    "\n",
    "- Devuelve el **porcentaje de aciertos** del modelo en el conjunto de prueba."
   ]
  },
  {
   "cell_type": "markdown",
   "metadata": {},
   "source": [
    "## **📌 Resumen del funcionamiento**\n",
    "🔹 **Random Forest** genera varios árboles de decisión y toma la predicción más frecuente.     \n",
    "🔹 **Ventaja:** Reduce el sobreajuste en comparación con un solo árbol de decisión.     \n",
    "🔹 **Limitación:** Con pocos árboles (``n_estimators=3``), la precisión puede ser menor.   \n",
    "\n",
    "**📌 ¿Quieres mejorar la precisión?**\n",
    "\n",
    "- **Aumenta** ``n_estimators`` (ejemplo: ``n_estimators=100``).\n",
    "\n",
    "- **Usa técnicas de preprocesamiento** como normalización de datos."
   ]
  },
  {
   "cell_type": "code",
   "execution_count": 17,
   "metadata": {},
   "outputs": [
    {
     "name": "stdout",
     "output_type": "stream",
     "text": [
      "Inertia = 86.39021984551397\n",
      "Centroids (x, y) =\n",
      " [[4.92525253 1.68181818]\n",
      " [1.49215686 0.2627451 ]]\n"
     ]
    }
   ],
   "source": [
    "# Inicializamos el modelo KMeans.\n",
    "k2model = KMeans(n_clusters=2, random_state=42)\n",
    "\n",
    "# Ajustar todos los puntos de datos EXCEPTO para la especie.\n",
    "k2model.fit(data[[\"petal length (cm)\", \"petal width (cm)\"]])\n",
    "\n",
    "# Calculamos e imprimimos la inercia desde el modelo de Kmeans.\n",
    "print(\"Inertia =\", k2model.inertia_)\n",
    "\n",
    "# Cálculamos e imprimimos la posición de los clústers.\n",
    "print(\"Centroids (x, y) =\\n\", k2model.cluster_centers_)"
   ]
  },
  {
   "cell_type": "markdown",
   "metadata": {},
   "source": [
    "Este bloque de código aplica el algoritmo de **K-Means** para agrupar los datos del conjunto ``iris`` en **dos clústers** usando las características *petal length* y *petal width*."
   ]
  },
  {
   "cell_type": "markdown",
   "metadata": {},
   "source": [
    "# **Explicación línea por línea:**\n",
    "## **1️⃣ Inicializamos el modelo K-Means**\n",
    "\n",
    "``k2model = KMeans(n_clusters=2, random_state=42)``\n",
    "- ``n_clusters=2``: Define que queremos **2 grupos** o clústers.\n",
    "\n",
    "- ``random_state=42``: Asegura que los resultados sean **reproducibles** en futuras ejecuciones.\n",
    "\n",
    "## **2️⃣ Entrenamos el modelo con los datos**\n",
    "\n",
    "``k2model.fit(data[[\"petal length (cm)\", \"petal width (cm)\"]])``\n",
    "- Se usa **solo** *petal length* y *petal width* para agrupar los datos (sin la especie).\n",
    "\n",
    "- ``fit()`` detecta patrones y agrupa los puntos en **dos clústers**.\n",
    "\n",
    "## **3️⃣ Calculamos la inercia**\n",
    "\n",
    "``print(\"Inertia =\", k2model.inertia_)``\n",
    "- **Inercia**: Es la suma de las distancias cuadradas entre los puntos y sus respectivos centroides.\n",
    "\n",
    "- **Menos inercia → mejores clústers**, porque los puntos están más cerca de sus centroides.\n",
    "\n",
    "## **4️⃣ Calculamos la posición de los centroides**\n",
    "\n",
    "``print(\"Centroids (x, y) =\\n\", k2model.cluster_centers_)``\n",
    "- ``cluster_centers_`` devuelve las **coordenadas** de los dos **centroides**.\n",
    "\n",
    "- Estos representan el \"punto medio\" de cada clúster."
   ]
  },
  {
   "cell_type": "markdown",
   "metadata": {},
   "source": [
    "## **📌 Resumen**\n",
    "Este código **agrupa** las flores del dataset en **dos clústers** utilizando solo dos características (*petal length* y *petal width*), calcula la calidad del agrupamiento con la **inercia**, y muestra la posición de los **centroides**. 🚀"
   ]
  },
  {
   "cell_type": "code",
   "execution_count": 19,
   "metadata": {},
   "outputs": [
    {
     "data": {
      "image/png": "[encoded data removed]",
      "text/plain": [
       "<Figure size 500x500 with 1 Axes>"
      ]
     },
     "metadata": {},
     "output_type": "display_data"
    }
   ],
   "source": [
    "# Graficamos los datos con la línea para setosa.\n",
    "f = plt.figure(figsize=(5,5))\n",
    "ax = f.add_subplot(1,1,1)\n",
    "\n",
    "# Setosa\n",
    "ax.scatter(data[data.iloc[:, -1]==0][\"petal length (cm)\"],\n",
    "           data[data.iloc[:, -1]==0][\"petal width (cm)\"],\n",
    "           c='k')\n",
    "\n",
    "# Versicolor\n",
    "ax.scatter(data[data.iloc[:, -1]==1][\"petal length (cm)\"],\n",
    "           data[data.iloc[:, -1]==1][\"petal width (cm)\"],\n",
    "           c='r')\n",
    "\n",
    "# Virginica\n",
    "ax.scatter(data[data.iloc[:, -1]==2][\"petal length (cm)\"],\n",
    "           data[data.iloc[:, -1]==2][\"petal width (cm)\"],\n",
    "           c='b')\n",
    "\n",
    "ax.legend([\"Setosa\", \"Versicolor\", \"Virginica\"])\n",
    "\n",
    "# Graficamos los centroides de los clústers (output en Petal Length x Petal Width)\n",
    "ax.plot(k2model.cluster_centers_[:,0],\n",
    "        k2model.cluster_centers_[:,1],\n",
    "        \"g*\", markersize=30)\n",
    "\n",
    "ax.set_xlabel(\"Petal Length\")\n",
    "ax.set_ylabel(\"Petal Width\")\n",
    "ax.set_title(\"Petal Length v. Width\")\n",
    "f.tight_layout()"
   ]
  },
  {
   "cell_type": "markdown",
   "metadata": {},
   "source": [
    "### **✨ Explicación del código: Visualización de especies y centroides de K-Means**\n",
    "Este código genera un **gráfico de dispersión** de las flores del dataset **Iris**, coloreando cada especie y mostrando los centroides de los clústers encontrados con **K-Means**."
   ]
  },
  {
   "cell_type": "markdown",
   "metadata": {},
   "source": [
    "# **🔹 Paso a paso del código:**\n",
    "## **1️⃣ Se crea la figura y los ejes**\n",
    "\n",
    "``f = plt.figure(figsize=(5,5))  ``      \n",
    "``ax = f.add_subplot(1,1,1)``\n",
    "\n",
    "🔹 Se crea una figura de **5x5** y un eje de gráfico dentro de ella."
   ]
  },
  {
   "cell_type": "markdown",
   "metadata": {},
   "source": [
    "## **2️⃣ Se grafican las tres especies del dataset**\n",
    "Cada especie se filtra y se grafica con un color diferente en base a la columna de etiquetas (``species``).\n",
    "\n",
    "```python\n",
    "# Setosa (color negro)\n",
    "ax.scatter(data[data.iloc[:, -1]==0][\"petal length (cm)\"],\n",
    "           data[data.iloc[:, -1]==0][\"petal width (cm)\"],\n",
    "           c='k')\n",
    "\n",
    "# Versicolor (color rojo)\n",
    "ax.scatter(data[data.iloc[:, -1]==1][\"petal length (cm)\"],\n",
    "           data[data.iloc[:, -1]==1][\"petal width (cm)\"],\n",
    "           c='r')\n",
    "\n",
    "# Virginica (color azul)\n",
    "ax.scatter(data[data.iloc[:, -1]==2][\"petal length (cm)\"],\n",
    "           data[data.iloc[:, -1]==2][\"petal width (cm)\"],\n",
    "           c='b')\n",
    "```\n",
    "\n",
    "**📌 Explicación:**\n",
    "\n",
    "- Se usa ``data.iloc[:, -1]`` para acceder a la **última columna** del DataFrame (que contiene la especie).\n",
    "\n",
    "- Se comparan los valores con **0**, **1**, **2** para filtrar cada especie:\n",
    "\n",
    "    - **0 → Setosa** (``c='k'`` → negro)\n",
    "\n",
    "    - **1 → Versicolor** (``c='r'`` → rojo)\n",
    "\n",
    "    - **2 → Virginica** (``c='b'`` → azul)\n",
    "\n",
    "- Luego, se grafica cada especie con ``ax.scatter()``, utilizando sus valores de **Petal Length (x)** y **Petal Width (y)**."
   ]
  },
  {
   "cell_type": "markdown",
   "metadata": {},
   "source": [
    "## **3️⃣ Se añade la leyenda**\n",
    "\n",
    "``ax.legend([\"Setosa\", \"Versicolor\", \"Virginica\"])``    \n",
    "\n",
    "✔️ Se agrega una leyenda con los nombres de las especies para identificar los colores en la gráfica."
   ]
  },
  {
   "cell_type": "markdown",
   "metadata": {},
   "source": [
    "## **4️⃣ Se grafican los centroides de K-Means**\n",
    "\n",
    "``ax.plot(k2model.cluster_centers_[:,0],``       \n",
    "``        k2model.cluster_centers_[:,1],``        \n",
    "``        \"g*\", markersize=30)``   \n",
    "\n",
    "**📌 Explicación:**    \n",
    "\n",
    "- ``k2model.cluster_centers_[:,0]`` → Extrae la coordenada x de los centroides (**Petal Length**).\n",
    "\n",
    "- ``k2model.cluster_centers_[:,1]`` → Extrae la coordenada y de los centroides (**Petal Width**).\n",
    "\n",
    "- ``\"g*\"`` → Usa estrellas verdes (``g`` = green, ``*`` = estrella) para marcar los centroides.\n",
    "\n",
    "- ``markersize=30`` → Ajusta el tamaño de los marcadores para que sean **bien visibles**."
   ]
  },
  {
   "cell_type": "markdown",
   "metadata": {},
   "source": [
    "## **5️⃣ Se configuran los ejes y título**\n",
    "\n",
    "``ax.set_xlabel(\"Petal Length\")``     \n",
    "``ax.set_ylabel(\"Petal Width\")``      \n",
    "``ax.set_title(\"Petal Length v. Width\")``      \n",
    "``f.tight_layout()``     \n",
    "\n",
    "✔️ Se agregan etiquetas a los ejes x (**Longitud del Pétalo**) y y (**Ancho del Pétalo**).     \n",
    "✔️ Se coloca un título **\"Petal Length v. Width\"**.\n",
    "✔️ ``f.tight_layout()`` optimiza el diseño para evitar que las etiquetas se salgan del área de la imagen."
   ]
  },
  {
   "cell_type": "markdown",
   "metadata": {},
   "source": [
    "## **🎯 ¿Qué se obtiene con este código?**\n",
    "**📊 Un gráfico que muestra:**      \n",
    "✅ Cada flor del dataset **Iris** clasificada por especie (Setosa, Versicolor, Virginica).      \n",
    "✅ Los **centroides de los clústers** calculados con **K-Means**.      \n",
    "✅ Una visualización clara de cómo están distribuidas las flores según sus características de pétalos.      "
   ]
  }
 ],
 "metadata": {
  "kernelspec": {
   "display_name": "base",
   "language": "python",
   "name": "python3"
  },
  "language_info": {
   "codemirror_mode": {
    "name": "ipython",
    "version": 3
   },
   "file_extension": ".py",
   "mimetype": "text/x-python",
   "name": "python",
   "nbconvert_exporter": "python",
   "pygments_lexer": "ipython3",
   "version": "3.12.4"
  }
 },
 "nbformat": 4,
 "nbformat_minor": 2
}
