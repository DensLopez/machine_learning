{
 "cells": [
  {
   "cell_type": "markdown",
   "metadata": {},
   "source": [
    "# **Reto**"
   ]
  },
  {
   "cell_type": "code",
   "execution_count": 1,
   "metadata": {},
   "outputs": [],
   "source": [
    "# Importamos librerías de manejo numérico y procesamiento de datos.\n",
    "import numpy as np\n",
    "import pandas as pd\n",
    "\n",
    "# Importamos scikit-learn, nuestra librería base para utilizar algoritmos de machine learning.\n",
    "import sklearn\n",
    "\n",
    "#Importamos los datasets de scikit-learn\n",
    "from sklearn import datasets\n",
    "\n",
    "# Importamos librerías de scikit-learn para manejo de regresión lineal/logística.\n",
    "from sklearn import linear_model\n",
    "\n",
    "# Importamos librerías de scikit-learn para uso de clasificación de bosque aleatorio.\n",
    "from sklearn.ensemble import RandomForestClassifier\n",
    "\n",
    "# Importamos librerías de scikit-learn para clusterización con k-means\n",
    "from sklearn.cluster import KMeans\n",
    "\n",
    "# Importamos librerías para manejo del rendimiento (performance) de nuestros modelos.\n",
    "from sklearn.metrics import mean_squared_error, r2_score, accuracy_score\n",
    "\n",
    "# Importamos librerías para graficar.\n",
    "import matplotlib.pyplot as plt\n",
    "from mpl_toolkits.mplot3d import Axes3D\n",
    "\n",
    "# Definimos el tamaño del graficado (opcional).\n",
    "plt.rcParams['font.size']=15"
   ]
  },
  {
   "cell_type": "code",
   "execution_count": 2,
   "metadata": {},
   "outputs": [
    {
     "name": "stdout",
     "output_type": "stream",
     "text": [
      "{'data': array([[5.1, 3.5, 1.4, 0.2],\n",
      "       [4.9, 3. , 1.4, 0.2],\n",
      "       [4.7, 3.2, 1.3, 0.2],\n",
      "       [4.6, 3.1, 1.5, 0.2],\n",
      "       [5. , 3.6, 1.4, 0.2],\n",
      "       [5.4, 3.9, 1.7, 0.4],\n",
      "       [4.6, 3.4, 1.4, 0.3],\n",
      "       [5. , 3.4, 1.5, 0.2],\n",
      "       [4.4, 2.9, 1.4, 0.2],\n",
      "       [4.9, 3.1, 1.5, 0.1],\n",
      "       [5.4, 3.7, 1.5, 0.2],\n",
      "       [4.8, 3.4, 1.6, 0.2],\n",
      "       [4.8, 3. , 1.4, 0.1],\n",
      "       [4.3, 3. , 1.1, 0.1],\n",
      "       [5.8, 4. , 1.2, 0.2],\n",
      "       [5.7, 4.4, 1.5, 0.4],\n",
      "       [5.4, 3.9, 1.3, 0.4],\n",
      "       [5.1, 3.5, 1.4, 0.3],\n",
      "       [5.7, 3.8, 1.7, 0.3],\n",
      "       [5.1, 3.8, 1.5, 0.3],\n",
      "       [5.4, 3.4, 1.7, 0.2],\n",
      "       [5.1, 3.7, 1.5, 0.4],\n",
      "       [4.6, 3.6, 1. , 0.2],\n",
      "       [5.1, 3.3, 1.7, 0.5],\n",
      "       [4.8, 3.4, 1.9, 0.2],\n",
      "       [5. , 3. , 1.6, 0.2],\n",
      "       [5. , 3.4, 1.6, 0.4],\n",
      "       [5.2, 3.5, 1.5, 0.2],\n",
      "       [5.2, 3.4, 1.4, 0.2],\n",
      "       [4.7, 3.2, 1.6, 0.2],\n",
      "       [4.8, 3.1, 1.6, 0.2],\n",
      "       [5.4, 3.4, 1.5, 0.4],\n",
      "       [5.2, 4.1, 1.5, 0.1],\n",
      "       [5.5, 4.2, 1.4, 0.2],\n",
      "       [4.9, 3.1, 1.5, 0.2],\n",
      "       [5. , 3.2, 1.2, 0.2],\n",
      "       [5.5, 3.5, 1.3, 0.2],\n",
      "       [4.9, 3.6, 1.4, 0.1],\n",
      "       [4.4, 3. , 1.3, 0.2],\n",
      "       [5.1, 3.4, 1.5, 0.2],\n",
      "       [5. , 3.5, 1.3, 0.3],\n",
      "       [4.5, 2.3, 1.3, 0.3],\n",
      "       [4.4, 3.2, 1.3, 0.2],\n",
      "       [5. , 3.5, 1.6, 0.6],\n",
      "       [5.1, 3.8, 1.9, 0.4],\n",
      "       [4.8, 3. , 1.4, 0.3],\n",
      "       [5.1, 3.8, 1.6, 0.2],\n",
      "       [4.6, 3.2, 1.4, 0.2],\n",
      "       [5.3, 3.7, 1.5, 0.2],\n",
      "       [5. , 3.3, 1.4, 0.2],\n",
      "       [7. , 3.2, 4.7, 1.4],\n",
      "       [6.4, 3.2, 4.5, 1.5],\n",
      "       [6.9, 3.1, 4.9, 1.5],\n",
      "       [5.5, 2.3, 4. , 1.3],\n",
      "       [6.5, 2.8, 4.6, 1.5],\n",
      "       [5.7, 2.8, 4.5, 1.3],\n",
      "       [6.3, 3.3, 4.7, 1.6],\n",
      "       [4.9, 2.4, 3.3, 1. ],\n",
      "       [6.6, 2.9, 4.6, 1.3],\n",
      "       [5.2, 2.7, 3.9, 1.4],\n",
      "       [5. , 2. , 3.5, 1. ],\n",
      "       [5.9, 3. , 4.2, 1.5],\n",
      "       [6. , 2.2, 4. , 1. ],\n",
      "       [6.1, 2.9, 4.7, 1.4],\n",
      "       [5.6, 2.9, 3.6, 1.3],\n",
      "       [6.7, 3.1, 4.4, 1.4],\n",
      "       [5.6, 3. , 4.5, 1.5],\n",
      "       [5.8, 2.7, 4.1, 1. ],\n",
      "       [6.2, 2.2, 4.5, 1.5],\n",
      "       [5.6, 2.5, 3.9, 1.1],\n",
      "       [5.9, 3.2, 4.8, 1.8],\n",
      "       [6.1, 2.8, 4. , 1.3],\n",
      "       [6.3, 2.5, 4.9, 1.5],\n",
      "       [6.1, 2.8, 4.7, 1.2],\n",
      "       [6.4, 2.9, 4.3, 1.3],\n",
      "       [6.6, 3. , 4.4, 1.4],\n",
      "       [6.8, 2.8, 4.8, 1.4],\n",
      "       [6.7, 3. , 5. , 1.7],\n",
      "       [6. , 2.9, 4.5, 1.5],\n",
      "       [5.7, 2.6, 3.5, 1. ],\n",
      "       [5.5, 2.4, 3.8, 1.1],\n",
      "       [5.5, 2.4, 3.7, 1. ],\n",
      "       [5.8, 2.7, 3.9, 1.2],\n",
      "       [6. , 2.7, 5.1, 1.6],\n",
      "       [5.4, 3. , 4.5, 1.5],\n",
      "       [6. , 3.4, 4.5, 1.6],\n",
      "       [6.7, 3.1, 4.7, 1.5],\n",
      "       [6.3, 2.3, 4.4, 1.3],\n",
      "       [5.6, 3. , 4.1, 1.3],\n",
      "       [5.5, 2.5, 4. , 1.3],\n",
      "       [5.5, 2.6, 4.4, 1.2],\n",
      "       [6.1, 3. , 4.6, 1.4],\n",
      "       [5.8, 2.6, 4. , 1.2],\n",
      "       [5. , 2.3, 3.3, 1. ],\n",
      "       [5.6, 2.7, 4.2, 1.3],\n",
      "       [5.7, 3. , 4.2, 1.2],\n",
      "       [5.7, 2.9, 4.2, 1.3],\n",
      "       [6.2, 2.9, 4.3, 1.3],\n",
      "       [5.1, 2.5, 3. , 1.1],\n",
      "       [5.7, 2.8, 4.1, 1.3],\n",
      "       [6.3, 3.3, 6. , 2.5],\n",
      "       [5.8, 2.7, 5.1, 1.9],\n",
      "       [7.1, 3. , 5.9, 2.1],\n",
      "       [6.3, 2.9, 5.6, 1.8],\n",
      "       [6.5, 3. , 5.8, 2.2],\n",
      "       [7.6, 3. , 6.6, 2.1],\n",
      "       [4.9, 2.5, 4.5, 1.7],\n",
      "       [7.3, 2.9, 6.3, 1.8],\n",
      "       [6.7, 2.5, 5.8, 1.8],\n",
      "       [7.2, 3.6, 6.1, 2.5],\n",
      "       [6.5, 3.2, 5.1, 2. ],\n",
      "       [6.4, 2.7, 5.3, 1.9],\n",
      "       [6.8, 3. , 5.5, 2.1],\n",
      "       [5.7, 2.5, 5. , 2. ],\n",
      "       [5.8, 2.8, 5.1, 2.4],\n",
      "       [6.4, 3.2, 5.3, 2.3],\n",
      "       [6.5, 3. , 5.5, 1.8],\n",
      "       [7.7, 3.8, 6.7, 2.2],\n",
      "       [7.7, 2.6, 6.9, 2.3],\n",
      "       [6. , 2.2, 5. , 1.5],\n",
      "       [6.9, 3.2, 5.7, 2.3],\n",
      "       [5.6, 2.8, 4.9, 2. ],\n",
      "       [7.7, 2.8, 6.7, 2. ],\n",
      "       [6.3, 2.7, 4.9, 1.8],\n",
      "       [6.7, 3.3, 5.7, 2.1],\n",
      "       [7.2, 3.2, 6. , 1.8],\n",
      "       [6.2, 2.8, 4.8, 1.8],\n",
      "       [6.1, 3. , 4.9, 1.8],\n",
      "       [6.4, 2.8, 5.6, 2.1],\n",
      "       [7.2, 3. , 5.8, 1.6],\n",
      "       [7.4, 2.8, 6.1, 1.9],\n",
      "       [7.9, 3.8, 6.4, 2. ],\n",
      "       [6.4, 2.8, 5.6, 2.2],\n",
      "       [6.3, 2.8, 5.1, 1.5],\n",
      "       [6.1, 2.6, 5.6, 1.4],\n",
      "       [7.7, 3. , 6.1, 2.3],\n",
      "       [6.3, 3.4, 5.6, 2.4],\n",
      "       [6.4, 3.1, 5.5, 1.8],\n",
      "       [6. , 3. , 4.8, 1.8],\n",
      "       [6.9, 3.1, 5.4, 2.1],\n",
      "       [6.7, 3.1, 5.6, 2.4],\n",
      "       [6.9, 3.1, 5.1, 2.3],\n",
      "       [5.8, 2.7, 5.1, 1.9],\n",
      "       [6.8, 3.2, 5.9, 2.3],\n",
      "       [6.7, 3.3, 5.7, 2.5],\n",
      "       [6.7, 3. , 5.2, 2.3],\n",
      "       [6.3, 2.5, 5. , 1.9],\n",
      "       [6.5, 3. , 5.2, 2. ],\n",
      "       [6.2, 3.4, 5.4, 2.3],\n",
      "       [5.9, 3. , 5.1, 1.8]]), 'target': array([0, 0, 0, 0, 0, 0, 0, 0, 0, 0, 0, 0, 0, 0, 0, 0, 0, 0, 0, 0, 0, 0,\n",
      "       0, 0, 0, 0, 0, 0, 0, 0, 0, 0, 0, 0, 0, 0, 0, 0, 0, 0, 0, 0, 0, 0,\n",
      "       0, 0, 0, 0, 0, 0, 1, 1, 1, 1, 1, 1, 1, 1, 1, 1, 1, 1, 1, 1, 1, 1,\n",
      "       1, 1, 1, 1, 1, 1, 1, 1, 1, 1, 1, 1, 1, 1, 1, 1, 1, 1, 1, 1, 1, 1,\n",
      "       1, 1, 1, 1, 1, 1, 1, 1, 1, 1, 1, 1, 2, 2, 2, 2, 2, 2, 2, 2, 2, 2,\n",
      "       2, 2, 2, 2, 2, 2, 2, 2, 2, 2, 2, 2, 2, 2, 2, 2, 2, 2, 2, 2, 2, 2,\n",
      "       2, 2, 2, 2, 2, 2, 2, 2, 2, 2, 2, 2, 2, 2, 2, 2, 2, 2]), 'frame': None, 'target_names': array(['setosa', 'versicolor', 'virginica'], dtype='<U10'), 'DESCR': '.. _iris_dataset:\\n\\nIris plants dataset\\n--------------------\\n\\n**Data Set Characteristics:**\\n\\n:Number of Instances: 150 (50 in each of three classes)\\n:Number of Attributes: 4 numeric, predictive attributes and the class\\n:Attribute Information:\\n    - sepal length in cm\\n    - sepal width in cm\\n    - petal length in cm\\n    - petal width in cm\\n    - class:\\n            - Iris-Setosa\\n            - Iris-Versicolour\\n            - Iris-Virginica\\n\\n:Summary Statistics:\\n\\n============== ==== ==== ======= ===== ====================\\n                Min  Max   Mean    SD   Class Correlation\\n============== ==== ==== ======= ===== ====================\\nsepal length:   4.3  7.9   5.84   0.83    0.7826\\nsepal width:    2.0  4.4   3.05   0.43   -0.4194\\npetal length:   1.0  6.9   3.76   1.76    0.9490  (high!)\\npetal width:    0.1  2.5   1.20   0.76    0.9565  (high!)\\n============== ==== ==== ======= ===== ====================\\n\\n:Missing Attribute Values: None\\n:Class Distribution: 33.3% for each of 3 classes.\\n:Creator: R.A. Fisher\\n:Donor: Michael Marshall (MARSHALL%PLU@io.arc.nasa.gov)\\n:Date: July, 1988\\n\\nThe famous Iris database, first used by Sir R.A. Fisher. The dataset is taken\\nfrom Fisher\\'s paper. Note that it\\'s the same as in R, but not as in the UCI\\nMachine Learning Repository, which has two wrong data points.\\n\\nThis is perhaps the best known database to be found in the\\npattern recognition literature.  Fisher\\'s paper is a classic in the field and\\nis referenced frequently to this day.  (See Duda & Hart, for example.)  The\\ndata set contains 3 classes of 50 instances each, where each class refers to a\\ntype of iris plant.  One class is linearly separable from the other 2; the\\nlatter are NOT linearly separable from each other.\\n\\n.. dropdown:: References\\n\\n  - Fisher, R.A. \"The use of multiple measurements in taxonomic problems\"\\n    Annual Eugenics, 7, Part II, 179-188 (1936); also in \"Contributions to\\n    Mathematical Statistics\" (John Wiley, NY, 1950).\\n  - Duda, R.O., & Hart, P.E. (1973) Pattern Classification and Scene Analysis.\\n    (Q327.D83) John Wiley & Sons.  ISBN 0-471-22361-1.  See page 218.\\n  - Dasarathy, B.V. (1980) \"Nosing Around the Neighborhood: A New System\\n    Structure and Classification Rule for Recognition in Partially Exposed\\n    Environments\".  IEEE Transactions on Pattern Analysis and Machine\\n    Intelligence, Vol. PAMI-2, No. 1, 67-71.\\n  - Gates, G.W. (1972) \"The Reduced Nearest Neighbor Rule\".  IEEE Transactions\\n    on Information Theory, May 1972, 431-433.\\n  - See also: 1988 MLC Proceedings, 54-64.  Cheeseman et al\"s AUTOCLASS II\\n    conceptual clustering system finds 3 classes in the data.\\n  - Many, many more ...\\n', 'feature_names': ['sepal length (cm)', 'sepal width (cm)', 'petal length (cm)', 'petal width (cm)'], 'filename': 'iris.csv', 'data_module': 'sklearn.datasets.data'}\n"
     ]
    }
   ],
   "source": [
    "# Carga del Iris dataset.\n",
    "iris = datasets.load_iris()\n",
    "\n",
    "# Imprimimos los datos.\n",
    "print(iris)"
   ]
  },
  {
   "cell_type": "code",
   "execution_count": 3,
   "metadata": {},
   "outputs": [
    {
     "data": {
      "text/html": [
       "<div>\n",
       "<style scoped>\n",
       "    .dataframe tbody tr th:only-of-type {\n",
       "        vertical-align: middle;\n",
       "    }\n",
       "\n",
       "    .dataframe tbody tr th {\n",
       "        vertical-align: top;\n",
       "    }\n",
       "\n",
       "    .dataframe thead th {\n",
       "        text-align: right;\n",
       "    }\n",
       "</style>\n",
       "<table border=\"1\" class=\"dataframe\">\n",
       "  <thead>\n",
       "    <tr style=\"text-align: right;\">\n",
       "      <th></th>\n",
       "      <th>sepal length (cm)</th>\n",
       "      <th>sepal width (cm)</th>\n",
       "      <th>petal length (cm)</th>\n",
       "      <th>petal width (cm)</th>\n",
       "      <th>species</th>\n",
       "    </tr>\n",
       "  </thead>\n",
       "  <tbody>\n",
       "    <tr>\n",
       "      <th>91</th>\n",
       "      <td>6.1</td>\n",
       "      <td>3.0</td>\n",
       "      <td>4.6</td>\n",
       "      <td>1.4</td>\n",
       "      <td>1</td>\n",
       "    </tr>\n",
       "    <tr>\n",
       "      <th>63</th>\n",
       "      <td>6.1</td>\n",
       "      <td>2.9</td>\n",
       "      <td>4.7</td>\n",
       "      <td>1.4</td>\n",
       "      <td>1</td>\n",
       "    </tr>\n",
       "    <tr>\n",
       "      <th>103</th>\n",
       "      <td>6.3</td>\n",
       "      <td>2.9</td>\n",
       "      <td>5.6</td>\n",
       "      <td>1.8</td>\n",
       "      <td>2</td>\n",
       "    </tr>\n",
       "    <tr>\n",
       "      <th>6</th>\n",
       "      <td>4.6</td>\n",
       "      <td>3.4</td>\n",
       "      <td>1.4</td>\n",
       "      <td>0.3</td>\n",
       "      <td>0</td>\n",
       "    </tr>\n",
       "    <tr>\n",
       "      <th>59</th>\n",
       "      <td>5.2</td>\n",
       "      <td>2.7</td>\n",
       "      <td>3.9</td>\n",
       "      <td>1.4</td>\n",
       "      <td>1</td>\n",
       "    </tr>\n",
       "  </tbody>\n",
       "</table>\n",
       "</div>"
      ],
      "text/plain": [
       "     sepal length (cm)  sepal width (cm)  petal length (cm)  petal width (cm)  \\\n",
       "91                 6.1               3.0                4.6               1.4   \n",
       "63                 6.1               2.9                4.7               1.4   \n",
       "103                6.3               2.9                5.6               1.8   \n",
       "6                  4.6               3.4                1.4               0.3   \n",
       "59                 5.2               2.7                3.9               1.4   \n",
       "\n",
       "     species  \n",
       "91         1  \n",
       "63         1  \n",
       "103        2  \n",
       "6          0  \n",
       "59         1  "
      ]
     },
     "execution_count": 3,
     "metadata": {},
     "output_type": "execute_result"
    }
   ],
   "source": [
    "# Creamos el DataFrame con los feature names.\n",
    "data = pd.DataFrame(data=iris.data, columns=iris.feature_names)\n",
    "\n",
    "# Creamos el DataFrame con los targets (las especies de la flor).\n",
    "target = pd.DataFrame(data=iris.target, columns=['species'])\n",
    "\n",
    "# Unimos ambos DF con concat; agregamos una nueva columna.\n",
    "data = pd.concat([data, target], axis=1)\n",
    "\n",
    "# Mezclar en orden aleatorio.\n",
    "data = data.sample(frac=1, random_state=1234)\n",
    "\n",
    "# Imprimimos los primeros registros del nuevo DataFrame.\n",
    "data.head()"
   ]
  },
  {
   "cell_type": "markdown",
   "metadata": {},
   "source": [
    "## **1. Crear el DataFrame con los feature names**\n",
    "\n",
    "- ``iris.data`` contiene las características numéricas de las flores (como el largo y ancho de los pétalos y sépalos).\n",
    "\n",
    "- ``iris.feature_names`` son los nombres de las columnas, que describen cada característica.\n",
    "\n",
    "- ``pd.DataFrame(...) ``convierte estos datos en un DataFrame de pandas, lo que facilita su manipulación y análisis.\n",
    "\n",
    "Ejemplo de salida ``(data.head())``:"
   ]
  },
  {
   "attachments": {
    "image.png": {
     "image/png": "[encoded data removed]"
    }
   },
   "cell_type": "markdown",
   "metadata": {},
   "source": [
    "![image.png](attachment:image.png)"
   ]
  },
  {
   "attachments": {
    "image.png": {
     "image/png": "[encoded data removed]"
    }
   },
   "cell_type": "markdown",
   "metadata": {},
   "source": [
    "## **2. Crear el DataFrame con los targets**\n",
    "\n",
    "``target = pd.DataFrame(data=iris.target, columns=['species'])``\n",
    "\n",
    "- ``iris.target`` contiene los valores de las especies (0, 1 o 2, que representan las diferentes especies de Iris).\n",
    "\n",
    "- Se convierte en un DataFrame de pandas con una sola columna llamada ``'species'``.\n",
    "\n",
    "Ejemplo de salida ``(target.head())``:\n",
    "\n",
    "![image.png](attachment:image.png)"
   ]
  },
  {
   "attachments": {
    "image.png": {
     "image/png": "[encoded data removed]"
    }
   },
   "cell_type": "markdown",
   "metadata": {},
   "source": [
    "## **3. Unir los DataFrames con concat**\n",
    "\n",
    "``data = pd.concat([data, target], axis=1)``\n",
    "- ``pd.concat([...], axis=1)`` concatena los DataFrames por columnas.\n",
    "\n",
    "- Ahora ``data`` tiene tanto las características como la columna ``'species'``.\n",
    "\n",
    "Ejemplo ``(data.head())``:\n",
    "\n",
    "![image.png](attachment:image.png)"
   ]
  },
  {
   "cell_type": "markdown",
   "metadata": {},
   "source": [
    "## **4. Mezclar en orden aleatorio**\n",
    "\n",
    "``data = data.sample(frac=1, random_state=1234)``\n",
    "\n",
    "- ``sample(frac=1)`` toma el 100% de las filas pero en orden aleatorio.\n",
    "\n",
    "- ``random_state=1234`` asegura que los resultados sean reproducibles cada vez que se ejecute el código.\n",
    "\n",
    "- `data.head()` Muestra las primeras 5 filas del nuevo DataFrame mezclado"
   ]
  },
  {
   "cell_type": "markdown",
   "metadata": {},
   "source": [
    "## **En resumen:**\n",
    "1. Se crea un DataFrame con las características ``(data)``.\n",
    "\n",
    "2. Se crea otro DataFrame con las especies ``(target)``.\n",
    "\n",
    "3. Se combinan ambos DataFrames ``(data = pd.concat(...))``.\n",
    "\n",
    "4. Se mezcla el DataFrame aleatoriamente ``(sample(frac=1))``.\n",
    "\n",
    "5. Se muestran los primeros registros ``(data.head())``."
   ]
  },
  {
   "cell_type": "code",
   "execution_count": 4,
   "metadata": {},
   "outputs": [],
   "source": [
    "# Fracción de entrenamiento 0.8.\n",
    "Ntrain = int(data.shape[0] * 0.8)\n",
    "\n",
    "# Datos de entrenamiento.\n",
    "train = data.iloc[:Ntrain, :]\n",
    "\n",
    "# Datos de prueba.\n",
    "test = data.iloc[Ntrain:, :]"
   ]
  },
  {
   "attachments": {
    "image.png": {
     "image/png": "[encoded data removed]"
    }
   },
   "cell_type": "markdown",
   "metadata": {},
   "source": [
    "## **1. Definir el tamaño del conjunto de entrenamiento**\n",
    "\n",
    "``Ntrain = int(data.shape[0] * 0.8)``\n",
    "\n",
    "- ``data.shape[0]`` obtiene el número total de filas en ``data`` (es decir, la cantidad de muestras en el dataset).\n",
    "\n",
    "- Se multiplica por ``0.8`` para obtener el 80% de los datos para entrenamiento.\n",
    "\n",
    "- ``int(...)`` convierte el resultado en un número entero, ya que el índice de filas debe ser un valor entero.\n",
    "\n",
    "🔹 Ejemplo:     \n",
    "Si ``data.shape[0] = 150`` (porque el dataset de Iris tiene 150 muestras), entonces:\n",
    "\n",
    "![image.png](attachment:image.png)\n",
    "\n",
    "Esto significa que **las primeras 120 filas** se usarán para entrenamiento y las **30 restantes para prueba**."
   ]
  },
  {
   "cell_type": "markdown",
   "metadata": {},
   "source": [
    "## **2. Extraer datos de entrenamiento**\n",
    "\n",
    "``train = data.iloc[:Ntrain, :]``\n",
    "- ``iloc[:Ntrain, :]`` selecciona las primeras ``Ntrain`` filas de ``data``.\n",
    "\n",
    "- ``:`` en la segunda posición significa \"tomar todas las columnas\".\n",
    "\n",
    "🔹 Ejemplo:\n",
    "Si ``Ntrain = 120``, entonces ``train`` contendrá las filas **0 a 119** del DataFrame."
   ]
  },
  {
   "cell_type": "markdown",
   "metadata": {},
   "source": [
    "## **3. Extraer datos de prueba**\n",
    "\n",
    "``test = data.iloc[Ntrain:, :]``\n",
    "- ``iloc[Ntrain:, :]`` selecciona desde ``Ntrain`` hasta el final del DataFrame.\n",
    "\n",
    "- Esto toma **el 20% restante** de los datos.\n",
    "\n",
    "🔹 Ejemplo:    \n",
    "Si ``Ntrain = 120``, entonces ``test`` contendrá **las filas 120 a 149** del DataFrame."
   ]
  },
  {
   "cell_type": "markdown",
   "metadata": {},
   "source": [
    "## **🔹 Resumen del código:**\n",
    "1. Se calcula cuántas filas (80%) se usarán para entrenamiento.\n",
    "\n",
    "2. Se dividen los datos en ``train`` (las primeras ``Ntrain`` filas) y ``test`` (el resto).\n",
    "\n",
    "3. ``train`` y ``test`` ahora contienen conjuntos separados para entrenar y evaluar un modelo."
   ]
  },
  {
   "cell_type": "code",
   "execution_count": 5,
   "metadata": {},
   "outputs": [
    {
     "data": {
      "image/png": "[encoded data removed]",
      "text/plain": [
       "<Figure size 500x500 with 1 Axes>"
      ]
     },
     "metadata": {},
     "output_type": "display_data"
    }
   ],
   "source": [
    "# Definimos variables para acceder de forma más simple a las columnas de nuestros features.\n",
    "plength = data[\"petal length (cm)\"]\n",
    "pwidth = data[\"petal width (cm)\"]\n",
    "\n",
    "# Creamos la gráfica comparanco Petal lenght (eje x) contra Petal width (eje y)\n",
    "f = plt.figure(figsize=(5,5))\n",
    "ax = f.add_subplot(1,1,1)\n",
    "ax.scatter(plength, pwidth)\n",
    "ax.set_xlabel(\"Petal Length\")\n",
    "ax.set_ylabel(\"Petal Width\")\n",
    "ax.set_title(\"Petal Width v. Length\")\n",
    "f.tight_layout()"
   ]
  },
  {
   "cell_type": "markdown",
   "metadata": {},
   "source": [
    "## **1. Definir variables para acceder a columnas específicas**\n",
    "\n",
    "``plength = data[\"petal length (cm)\"]``     \n",
    "``pwidth = data[\"petal width (cm)\"]``\n",
    "\n",
    "- Se extraen dos columnas del DataFrame ``data``:\n",
    "\n",
    "  - ``plength`` almacena los valores de la columna **\"petal length (cm)\"**.\n",
    "\n",
    "  - ``pwidth`` almacena los valores de la columna **\"petal width (cm)\"**.\n",
    "\n",
    "- Esto facilita su uso en la gráfica, evitando escribir ``data[\"petal length (cm)\"]`` cada vez."
   ]
  },
  {
   "attachments": {
    "image.png": {
     "image/png": "[encoded data removed]"
    }
   },
   "cell_type": "markdown",
   "metadata": {},
   "source": [
    "## **2. Crear la figura y los ejes para la gráfica**\n",
    "\n",
    "``f = plt.figure(figsize=(5,5))``     \n",
    "``ax = f.add_subplot(1,1,1)``\n",
    "- ``plt.figure(figsize=(5,5))`` crea una nueva figura de 5x5 pulgadas.\n",
    "\n",
    "- ``add_subplot(1,1,1)`` agrega un único gráfico (1 fila, 1 columna, primer gráfico).\n",
    "\n",
    "**📌 Ejemplo visual** de cómo dividir gráficos con a``dd_subplot(rows, cols, index)``:\n",
    "\n",
    "![image.png](attachment:image.png)\n",
    "\n",
    "Aquí solo hay uno, así que no es necesario dividir."
   ]
  },
  {
   "cell_type": "markdown",
   "metadata": {},
   "source": [
    "## **3. Dibujar el gráfico de dispersión**\n",
    "\n",
    "``ax.scatter(plength, pwidth)``\n",
    "- ``scatter(x, y)`` crea un **diagrama de dispersión**.\n",
    "\n",
    "- En este caso, ``plength`` (eje X) se grafica contra ``pwidth`` (eje Y).\n",
    "\n",
    "- Cada punto representa una flor en función del largo y ancho de su pétalo."
   ]
  },
  {
   "cell_type": "markdown",
   "metadata": {},
   "source": [
    "## **4. Etiquetas y título**\n",
    "\n",
    "``ax.set_xlabel(\"Petal Length\")``    \n",
    "``ax.set_ylabel(\"Petal Width\")``    \n",
    "``ax.set_title(\"Petal Width v. Length\")``     \n",
    "- ``set_xlabel(\"Petal Length\")`` etiqueta el eje X.\n",
    "\n",
    "- ``set_ylabel(\"Petal Width\")`` etiqueta el eje Y.\n",
    "\n",
    "- ``set_title(\"Petal Width v. Length\")`` le da un título al gráfico."
   ]
  },
  {
   "cell_type": "markdown",
   "metadata": {},
   "source": [
    "## **5. Ajustar el diseño del gráfico**\n",
    "\n",
    "``f.tight_layout()``\n",
    "- ``tight_layout()`` **ajusta automáticamente** los márgenes para evitar que las etiquetas o títulos se sobrepongan.\n",
    "\n",
    "## **🔹 Resumen del código:**\n",
    "✅ Extrae las columnas Petal Length y Petal Width.   \n",
    "✅ Crea una figura y un gráfico de dispersión.     \n",
    "✅ Añade etiquetas y título.    \n",
    "✅ Ajusta la distribución del gráfico.   "
   ]
  },
  {
   "cell_type": "code",
   "execution_count": 6,
   "metadata": {},
   "outputs": [
    {
     "name": "stdout",
     "output_type": "stream",
     "text": [
      "Coef\n",
      " [0.41490802]\n",
      "\n",
      "\n",
      "Bias\n",
      " -0.357589314248546\n"
     ]
    }
   ],
   "source": [
    "# Importar un objeto de regresión lineal de sklearn.\n",
    "model_1 = linear_model.LinearRegression()\n",
    "\n",
    "# Ajustar el modelo a tus datos.\n",
    "model_1.fit(pd.DataFrame(train.iloc[:, 2]), train.iloc[:, 3])\n",
    "\n",
    "# Imprimir los coeficientes.\n",
    "print(\"Coef\\n\", model_1.coef_)\n",
    "\n",
    "# Imprimir el sesgo o bias.\n",
    "print(\"\\n\\nBias\\n\", model_1.intercept_)"
   ]
  },
  {
   "cell_type": "markdown",
   "metadata": {},
   "source": [
    "## **1️⃣ Importar el modelo de regresión lineal**\n",
    "\n",
    "``model_1 = linear_model.LinearRegression()``\n",
    "- Se **crea un objeto** de regresión lineal usando ``LinearRegression() de sklearn.linear_model``.\n",
    "\n",
    "- Este modelo buscará **ajustar una línea recta** a los datos para hacer predicciones."
   ]
  },
  {
   "cell_type": "markdown",
   "metadata": {},
   "source": [
    "## **2️⃣ Entrenar el modelo con los datos de entrenamiento**\n",
    "\n",
    "``model_1.fit(pd.DataFrame(train.iloc[:, 2]), train.iloc[:, 3])``\n",
    "- ``train.iloc[:, 2]``: Toma la **tercera columna** de ``train`` (índice ``2``).\n",
    "\n",
    "- ``train.iloc[:, 3]``: Toma la **cuarta columna** de ``train`` (índice ``3``).\n",
    "\n",
    "- ``pd.DataFrame(...)``: Convierte ``train.iloc[:, 2]`` en un DataFrame, porque ``sklearn`` requiere que las **features** sean en formato de 2D (matriz de características).\n",
    "\n",
    "**🔹 Ejemplo:**     \n",
    "Si ``train.iloc[:, 2]`` representa **\"Petal Length\"** y ``train.iloc[:, 3]`` representa **\"Petal Width\"**, entonces estamos ajustando un modelo que predice el **ancho del pétalo** a partir de **su largo**."
   ]
  },
  {
   "attachments": {
    "image.png": {
     "image/png": "[encoded data removed]"
    }
   },
   "cell_type": "markdown",
   "metadata": {},
   "source": [
    "## **3️⃣ Imprimir los coeficientes del modelo**\n",
    "\n",
    "``print(\"Coef\\n\", model_1.coef_)``\n",
    "- ``model_1.coef_`` devuelve los **coeficientes (pendientes)** del modelo.\n",
    "\n",
    "- En una regresión lineal de la forma:\n",
    "\n",
    "$$Y = mx+b$$\n",
    "\n",
    "``coef_`` es el valor de ``m`` **(pendiente de la recta)**.\n",
    "\n",
    "**🔹 Ejemplo de salida:**\n",
    "\n",
    "![image.png](attachment:image.png)\n",
    "\n",
    "Esto significa que por **cada unidad que aumenta \"Petal Length\"**, el **\"Petal Width\"** aumenta en ``0.3``.\n",
    "\n"
   ]
  },
  {
   "attachments": {
    "image.png": {
     "image/png": "[encoded data removed]"
    }
   },
   "cell_type": "markdown",
   "metadata": {},
   "source": [
    "## **4️⃣ Imprimir el sesgo (bias/intercepto)**\n",
    "\n",
    "``print(\"\\n\\nBias\\n\", model_1.intercept_)``\n",
    "- ``model_1.intercept_`` es el **término independiente** ``b`` en la ecuación de la recta:\n",
    "\n",
    "$$y=mx+b$$\n",
    "\n",
    "- Representa **dónde la línea cruza el eje Y** cuando ``x = 0``.\n",
    "\n",
    "**🔹 Ejemplo de salida:**\n",
    "\n",
    "![image.png](attachment:image.png)\n",
    "\n",
    "Esto significa que si ``Petal Length = 0``, entonces el **Petal Width** predicho sería ``0.1``."
   ]
  },
  {
   "cell_type": "markdown",
   "metadata": {},
   "source": [
    "## **🔹 Resumen del código:**\n",
    "✅ Crea un modelo de regresión lineal.     \n",
    "✅ Entrena el modelo con **Petal Length** como entrada y **Petal Width** como salida.      \n",
    "✅ Muestra el coeficiente (``m``) y el bias (``b``).    "
   ]
  },
  {
   "cell_type": "code",
   "execution_count": 10,
   "metadata": {},
   "outputs": [
    {
     "data": {
      "image/png": "[encoded data removed]",
      "text/plain": [
       "<Figure size 500x500 with 1 Axes>"
      ]
     },
     "metadata": {},
     "output_type": "display_data"
    }
   ],
   "source": [
    "# Definimos variables para acceder de forma más simple a las columnas de nuestros features.\n",
    "plength = data[\"petal length (cm)\"]\n",
    "pwidth = data[\"petal width (cm)\"]\n",
    "\n",
    "# Definimos un arreglo desde el valor mímimo del petal length hasta el máximo del petal lenght + 1, en pasos de 0.5.\n",
    "xvals = np.arange(plength.min(), plength.max()+1, 0.5)\n",
    "\n",
    "# Ecuación de nuestra regresión lineal.\n",
    "yvals = 0.41*xvals - 0.36\n",
    "\n",
    "# Gráficamos nuestra recta con los datos y nuestra ecuación.\n",
    "f = plt.figure(figsize=(5,5))\n",
    "ax = f.add_subplot(1,1,1)\n",
    "ax.scatter(plength, pwidth)\n",
    "ax.plot(xvals, yvals, 'k', linewidth=3)\n",
    "ax.set_xlabel(\"Petal Length\")\n",
    "ax.set_ylabel(\"Petal Width\")\n",
    "ax.set_title(\"Petal Length v. Width\")\n",
    "f.tight_layout()"
   ]
  },
  {
   "cell_type": "markdown",
   "metadata": {},
   "source": [
    "## **1️⃣ Extraer columnas del DataFrame**\n",
    "\n",
    "``plength = data[\"petal length (cm)\"]``    \n",
    "``pwidth = data[\"petal width (cm)\"]``    \n",
    "- Se extraen las columnas **\"Petal Length\"** y **\"Petal Width\"** del DataFrame ``data``, lo que simplifica su uso en la gráfica."
   ]
  },
  {
   "attachments": {
    "image.png": {
     "image/png": "[encoded data removed]"
    }
   },
   "cell_type": "markdown",
   "metadata": {},
   "source": [
    "## **2️⃣ Generar un rango de valores para la predicción**\n",
    "\n",
    "``xvals = np.arange(plength.min(), plength.max()+1, 0.5)``\n",
    "- ``plength.min()`` → Valor mínimo de **\"Petal Length\"**.\n",
    "\n",
    "- ``plength.max()+1`` → Valor máximo + 1 (para extender un poco el rango).\n",
    "\n",
    "- ``0.5`` → Incremento entre valores (se generan puntos cada 0.5 unidades).\n",
    "\n",
    "- **Objetivo**: Crear valores de entrada ``x`` para graficar la línea de regresión.\n",
    "\n",
    "🔹 **Ejemplo de salida** (``xvals``) si el mínimo es 1 y el máximo es 6:\n",
    "\n",
    "![image.png](attachment:image.png)"
   ]
  },
  {
   "attachments": {
    "image.png": {
     "image/png": "[encoded data removed]"
    }
   },
   "cell_type": "markdown",
   "metadata": {},
   "source": [
    "## **3️⃣ Definir la ecuación de la regresión lineal**\n",
    "\n",
    "``yvals = 0.41*xvals - 0.36``\n",
    "- Se usa la ecuación de la recta:\n",
    "\n",
    "$$ y=mx+b$$\n",
    "donde:\n",
    "\n",
    "- ``m = 0.41`` (pendiente de la recta).\n",
    "\n",
    "- ``b = -0.36`` (intercepto o bias).\n",
    "\n",
    "- Esto genera valores ``yvals`` correspondientes a cada ``xvals``.\n",
    "\n",
    "🔹 Ejemplo de cálculo para ``x = 1.5``:\n",
    "\n",
    "![image.png](attachment:image.png)\n"
   ]
  },
  {
   "cell_type": "markdown",
   "metadata": {},
   "source": [
    "## **4️⃣ Graficar la regresión junto con los datos originales**\n",
    "```python\n",
    "f = plt.figure(figsize=(5,5))\n",
    "ax = f.add_subplot(1,1,1)\n",
    "# Gráfico de dispersión\n",
    "ax.scatter(plength, pwidth)\n",
    "# Línea de regresión en negro ('k'), grosor 3  \n",
    "ax.plot(xvals, yvals, 'k', linewidth=3)  \n",
    "ax.set_xlabel(\"Petal Length\")\n",
    "ax.set_ylabel(\"Petal Width\")\n",
    "ax.set_title(\"Petal Length v. Width\")\n",
    "f.tight_layout()\n",
    "```\n",
    "\n",
    "- ``ax.scatter(plength, pwidth)``: Grafica los puntos de datos originales.\n",
    "\n",
    "- ``ax.plot(xvals, yvals, 'k', linewidth=3)``:\n",
    "\n",
    "  - ``xvals`` → Valores en **X**.\n",
    "\n",
    "  - ``yvals`` → Valores en **Y** (predichos con la regresión).\n",
    "\n",
    "  - ``'k'`` → Color negro.\n",
    "\n",
    "  - ``linewidth=3`` → Grosor de la línea.\n",
    "\n",
    "#### **🔹 Visualización esperada:** \n",
    "\n",
    "**📌 Puntos dispersos** → Representan los datos originales.     \n",
    "**📌 Línea recta negra** → Muestra la predicción de la regresión."
   ]
  },
  {
   "cell_type": "markdown",
   "metadata": {},
   "source": [
    "## **🔹 Resumen del código:**\n",
    "✅ Extrae los datos de **\"Petal Length\"** y **\"Petal Width\"**.    \n",
    "✅ Crea valores ``xvals`` en un rango para la predicción.     \n",
    "✅ Define ``yvals`` con la ecuación de la regresión.       \n",
    "✅ Grafica los puntos originales y la línea de regresión. "
   ]
  }
 ],
 "metadata": {
  "kernelspec": {
   "display_name": "base",
   "language": "python",
   "name": "python3"
  },
  "language_info": {
   "codemirror_mode": {
    "name": "ipython",
    "version": 3
   },
   "file_extension": ".py",
   "mimetype": "text/x-python",
   "name": "python",
   "nbconvert_exporter": "python",
   "pygments_lexer": "ipython3",
   "version": "3.12.4"
  }
 },
 "nbformat": 4,
 "nbformat_minor": 2
}
