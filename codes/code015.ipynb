{
 "cells": [
  {
   "cell_type": "markdown",
   "metadata": {},
   "source": [
    "# **15. Cómo profundizar en machine learning y deep learning**"
   ]
  },
  {
   "cell_type": "markdown",
   "metadata": {},
   "source": [
    "Antes de que te vayas quiero contarte algo más. \n",
    "\n",
    "Durante este curso has aprendido las bases teóricas de machine learning y has comenzado a jugar con código de modelos con tu primera librería. \n",
    "\n",
    "Pero esto solo es el principio, es la introducción.\n",
    "Como te comenté en la clase anterior, todavía hay mucho más por aprender en machine learning, deep learning e inteligencia artificial en general. \n",
    "\n",
    "Por ello quiero compartirte la ruta para continuar aprendiendo:\n",
    "\n",
    "## **Machine learning**\n",
    "\n",
    "**Curso de Fundamentos Prácticos de Machine Learning**      \n",
    "Profundiza en el uso práctico de regresiones, árboles de decisión, clusterización con k-means e incluso toca las bases del deep learning.       \n",
    "[Tómalo aquí](https://platzi.com/cursos/fundamentos-ml/)\n",
    "\n",
    "**Curso Profesional de Machine Learning con Scikit-Learn**    \n",
    "Con este curso aprenderás a implementar los principales algoritmos disponibles en scikit-learn de manera profesional. Visitarás temas como optimización de features, optimización paramétrica, salida a producción y más.      \n",
    "[Tómalo aquí](https://platzi.com/cursos/scikitlearn/)\n",
    "\n",
    "## **Deep learning con redes neuronales**\n",
    "**Curso de Fundamentos de Redes Neuronales con Python y Keras**      \n",
    "Conoce cómo funcionan las redes neuronales creando una red neuronal con Python y Numpy. Aprende a utilizar Keras, la librería esencial para aprender el uso de redes neuronales.     \n",
    "[Tómalo aquí](https://platzi.com/cursos/redes-neuronales/)\n",
    "\n",
    "## **Procesamiento de lenguaje natural**     \n",
    "**Curso de Fundamentos de Procesamiento de Lenguaje Natural con Python y NLTK**     \n",
    "Aprende cómo los algoritmos pueden aprender a procesar el lenguaje humano con Python y NLTK y entrena tus primeros modelos de procesamiento de lenguaje natural.      \n",
    "[Tómalo aquí](https://platzi.com/cursos/python-lenguaje-natural/)\n",
    "\n",
    "**Curso de Algoritmos de Clasificación de Texto**    \n",
    "Descubre las aplicaciones del procesamiento de lenguaje natural en clasificación de textos. Comprende y usa estos algoritmos con Python y la librería NLTK.     \n",
    "[Tómalo aquí](https://platzi.com/cursos/clasificacion-texto/)\n",
    "_______________________________________\n",
    "\n"
   ]
  },
  {
   "cell_type": "markdown",
   "metadata": {},
   "source": [
    "Para terminar te invito a que regreses a este curso cada vez que tengas dudas sobre las bases que vimos y necesites recordarlas. Te ayudará mucho mientras sigues aprendiendo con los siguientes cursos que te recomendé.\n",
    "\n",
    "¡Ahora sí nos vemos en la próxima!"
   ]
  }
 ],
 "metadata": {
  "language_info": {
   "name": "python"
  }
 },
 "nbformat": 4,
 "nbformat_minor": 2
}
