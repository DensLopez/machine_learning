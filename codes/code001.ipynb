{
 "cells": [
  {
   "cell_type": "markdown",
   "metadata": {},
   "source": [
    "# **1. Introducción a Machine Learning**"
   ]
  },
  {
   "cell_type": "markdown",
   "metadata": {},
   "source": [
    "En este curso abordaremos modelos de Machine Learning, cómo usarlos apropiadamente y que estos puedan contestar preguntas que nosotros podamos tener en mente sobre nuestros data sets.\n",
    "\n",
    "Antes de comenzar tenemos que tener algunas cosas en mente como conocimientos previos.\n",
    "- Programación en Python\n",
    "- Uso de Pandas\n",
    "- Uso de Matplotlib\n",
    "- Matemáticas: Probabilidad, estadística y cálculo.\n",
    "\n",
    "Esto tiene sentido porque bastantes algoritmos están construidos sobre Python, Pandas es útil para trabajar con **datasets**. Matplotlib nos ayudará para graficar estos datos y así ser capaz de entender las relaciones en los datos, antes o incluso en el entrenamiento de modelos de ML.\n",
    "\n",
    "Por último las matemáticas nos darán un entendimiento sobre que están haciendo los modelos de ML, también nos ayudarán a realizar buenas predicciones."
   ]
  },
  {
   "cell_type": "markdown",
   "metadata": {},
   "source": [
    "## **Objetivos**\n",
    "1. Aprender como preparar nuestros datos, además de entender o saber cual es el problema fundamental que nuestros datos necesitan resolver, es decir; el objetivo con el cual se está realizando un modelo. También aprender a visualizar nuestros datos y sus relaciones de manera gráfica.\n",
    "2. Hablaremos de los modelos de ML, específicamente entender que están haciendo los diferentes modelos de ML, por debajo de su estructura y cómo hacen predicciones.\n",
    "3. Por último vamos a abordar el tema del Deep Learning (DL) y por qué estos modelos, en particular Neural Networks son buenos en resolver problemas complejos.\n",
    "\n",
    "Con esto en mente, vayamos a nuestra siguiente clase, en la que hablaremos; ¿que es un modelo de ML? y su fascinante historia."
   ]
  }
 ],
 "metadata": {
  "language_info": {
   "name": "python"
  }
 },
 "nbformat": 4,
 "nbformat_minor": 2
}
